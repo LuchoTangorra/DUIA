{
  "nbformat": 4,
  "nbformat_minor": 0,
  "metadata": {
    "colab": {
      "name": "DUIA Modulo 2 - TP 2 - Tangorra.ipynb",
      "provenance": [],
      "collapsed_sections": []
    },
    "kernelspec": {
      "name": "python3",
      "display_name": "Python 3"
    }
  },
  "cells": [
    {
      "cell_type": "code",
      "metadata": {
        "id": "GH2WmrSORIAZ",
        "colab": {
          "base_uri": "https://localhost:8080/",
          "height": 417
        },
        "outputId": "cc432c25-5f7e-4322-de22-7e43d5e5a1b6"
      },
      "source": [
        "import pandas as pd \n",
        "\n",
        "#Importo el dataset desde github utilizando pandas\n",
        "df = pd.read_csv('https://raw.githubusercontent.com/ignaciorlando/duia-ml-datasets/master/Insurance/insurance.csv')\n",
        "\n",
        "#lo imprimo\n",
        "df"
      ],
      "execution_count": null,
      "outputs": [
        {
          "output_type": "execute_result",
          "data": {
            "text/html": [
              "<div>\n",
              "<style scoped>\n",
              "    .dataframe tbody tr th:only-of-type {\n",
              "        vertical-align: middle;\n",
              "    }\n",
              "\n",
              "    .dataframe tbody tr th {\n",
              "        vertical-align: top;\n",
              "    }\n",
              "\n",
              "    .dataframe thead th {\n",
              "        text-align: right;\n",
              "    }\n",
              "</style>\n",
              "<table border=\"1\" class=\"dataframe\">\n",
              "  <thead>\n",
              "    <tr style=\"text-align: right;\">\n",
              "      <th></th>\n",
              "      <th>age</th>\n",
              "      <th>sex</th>\n",
              "      <th>bmi</th>\n",
              "      <th>children</th>\n",
              "      <th>smoker</th>\n",
              "      <th>region</th>\n",
              "      <th>charges</th>\n",
              "    </tr>\n",
              "  </thead>\n",
              "  <tbody>\n",
              "    <tr>\n",
              "      <th>0</th>\n",
              "      <td>19</td>\n",
              "      <td>female</td>\n",
              "      <td>27.900</td>\n",
              "      <td>0</td>\n",
              "      <td>yes</td>\n",
              "      <td>southwest</td>\n",
              "      <td>16884.92400</td>\n",
              "    </tr>\n",
              "    <tr>\n",
              "      <th>1</th>\n",
              "      <td>18</td>\n",
              "      <td>male</td>\n",
              "      <td>33.770</td>\n",
              "      <td>1</td>\n",
              "      <td>no</td>\n",
              "      <td>southeast</td>\n",
              "      <td>1725.55230</td>\n",
              "    </tr>\n",
              "    <tr>\n",
              "      <th>2</th>\n",
              "      <td>28</td>\n",
              "      <td>male</td>\n",
              "      <td>33.000</td>\n",
              "      <td>3</td>\n",
              "      <td>no</td>\n",
              "      <td>southeast</td>\n",
              "      <td>4449.46200</td>\n",
              "    </tr>\n",
              "    <tr>\n",
              "      <th>3</th>\n",
              "      <td>33</td>\n",
              "      <td>male</td>\n",
              "      <td>22.705</td>\n",
              "      <td>0</td>\n",
              "      <td>no</td>\n",
              "      <td>northwest</td>\n",
              "      <td>21984.47061</td>\n",
              "    </tr>\n",
              "    <tr>\n",
              "      <th>4</th>\n",
              "      <td>32</td>\n",
              "      <td>male</td>\n",
              "      <td>28.880</td>\n",
              "      <td>0</td>\n",
              "      <td>no</td>\n",
              "      <td>northwest</td>\n",
              "      <td>3866.85520</td>\n",
              "    </tr>\n",
              "    <tr>\n",
              "      <th>...</th>\n",
              "      <td>...</td>\n",
              "      <td>...</td>\n",
              "      <td>...</td>\n",
              "      <td>...</td>\n",
              "      <td>...</td>\n",
              "      <td>...</td>\n",
              "      <td>...</td>\n",
              "    </tr>\n",
              "    <tr>\n",
              "      <th>1333</th>\n",
              "      <td>50</td>\n",
              "      <td>male</td>\n",
              "      <td>30.970</td>\n",
              "      <td>3</td>\n",
              "      <td>no</td>\n",
              "      <td>northwest</td>\n",
              "      <td>10600.54830</td>\n",
              "    </tr>\n",
              "    <tr>\n",
              "      <th>1334</th>\n",
              "      <td>18</td>\n",
              "      <td>female</td>\n",
              "      <td>31.920</td>\n",
              "      <td>0</td>\n",
              "      <td>no</td>\n",
              "      <td>northeast</td>\n",
              "      <td>2205.98080</td>\n",
              "    </tr>\n",
              "    <tr>\n",
              "      <th>1335</th>\n",
              "      <td>18</td>\n",
              "      <td>female</td>\n",
              "      <td>36.850</td>\n",
              "      <td>0</td>\n",
              "      <td>no</td>\n",
              "      <td>southeast</td>\n",
              "      <td>1629.83350</td>\n",
              "    </tr>\n",
              "    <tr>\n",
              "      <th>1336</th>\n",
              "      <td>21</td>\n",
              "      <td>female</td>\n",
              "      <td>25.800</td>\n",
              "      <td>0</td>\n",
              "      <td>no</td>\n",
              "      <td>southwest</td>\n",
              "      <td>2007.94500</td>\n",
              "    </tr>\n",
              "    <tr>\n",
              "      <th>1337</th>\n",
              "      <td>61</td>\n",
              "      <td>female</td>\n",
              "      <td>29.070</td>\n",
              "      <td>0</td>\n",
              "      <td>yes</td>\n",
              "      <td>northwest</td>\n",
              "      <td>29141.36030</td>\n",
              "    </tr>\n",
              "  </tbody>\n",
              "</table>\n",
              "<p>1338 rows × 7 columns</p>\n",
              "</div>"
            ],
            "text/plain": [
              "      age     sex     bmi  children smoker     region      charges\n",
              "0      19  female  27.900         0    yes  southwest  16884.92400\n",
              "1      18    male  33.770         1     no  southeast   1725.55230\n",
              "2      28    male  33.000         3     no  southeast   4449.46200\n",
              "3      33    male  22.705         0     no  northwest  21984.47061\n",
              "4      32    male  28.880         0     no  northwest   3866.85520\n",
              "...   ...     ...     ...       ...    ...        ...          ...\n",
              "1333   50    male  30.970         3     no  northwest  10600.54830\n",
              "1334   18  female  31.920         0     no  northeast   2205.98080\n",
              "1335   18  female  36.850         0     no  southeast   1629.83350\n",
              "1336   21  female  25.800         0     no  southwest   2007.94500\n",
              "1337   61  female  29.070         0    yes  northwest  29141.36030\n",
              "\n",
              "[1338 rows x 7 columns]"
            ]
          },
          "metadata": {
            "tags": []
          },
          "execution_count": 1
        }
      ]
    },
    {
      "cell_type": "markdown",
      "metadata": {
        "id": "UQqAs5ScSuHU"
      },
      "source": [
        "El problema a resolver es el de encontrar el costo que tendra el seguro para cada persona segun ciertos atributos. En este caso los atributos son la edad, cantidad de hijos, sexo, si es o no fumadora, region a la que pertenece y el indice de masa corporal.\n",
        "\n",
        "Age: valor continuo hasta rango indefinido (lo podria definir si el seguro dice hasta que edad permiten, pero este no es el caso)\n",
        "\n",
        "Sex: hombre o mujer (posible bias). Esto podría generar un bias en los modelos si hay alguna diferencia segun el valor. Se estudiará si corresponde mantenerlo o no, ya que puede ser el caso de que los seguros se basen en gran medida en este atributo.\n",
        "\n",
        "BMI: indice de masa corporal. Valor continuo desde y hasta rango indefinido.\n",
        "\n",
        "Children: cantidad de hijos que tiene la persona. Variable continua que puede ir desde 0 hasta rango indefinido.\n",
        "\n",
        "Smoker: variable categórica (binaria) que indica si la persona fuma o no.\n",
        "\n",
        "Region: variable categórica (cantidad de regiones) que indica la región a la que pertenece la persona. Este atributo podría generar un bías, aunque (a mi forma de ver) es un atributo válido ya que, en un ejemplo conocido de la ciudad de Tandil, vivir cerca de una cantera lleva a la población de esa zona a enfermarse más ya que aspiran el polvillo del aire.\n",
        "\n",
        "Charges: cuanto costaría el seguro de la persona."
      ]
    },
    {
      "cell_type": "code",
      "metadata": {
        "id": "C60jm3cKRTvZ",
        "colab": {
          "base_uri": "https://localhost:8080/",
          "height": 68
        },
        "outputId": "7d9f7b85-fa8e-4fcb-cf5b-420179dacaef"
      },
      "source": [
        "#Vemos la cantidad de filas de clientes hombres y mujeres\n",
        "df['sex'].value_counts()"
      ],
      "execution_count": null,
      "outputs": [
        {
          "output_type": "execute_result",
          "data": {
            "text/plain": [
              "male      676\n",
              "female    662\n",
              "Name: sex, dtype: int64"
            ]
          },
          "metadata": {
            "tags": []
          },
          "execution_count": 2
        }
      ]
    },
    {
      "cell_type": "code",
      "metadata": {
        "id": "cQ2OT9e_VFPa",
        "colab": {
          "base_uri": "https://localhost:8080/",
          "height": 331
        },
        "outputId": "fa352ae4-1a4e-453f-f35d-eb479f5f2f07"
      },
      "source": [
        "#Vamos a ver el costo del seguro para ambos generos\n",
        "df[['sex','charges']].groupby('sex').boxplot()"
      ],
      "execution_count": null,
      "outputs": [
        {
          "output_type": "execute_result",
          "data": {
            "text/plain": [
              "female         AxesSubplot(0.1,0.15;0.363636x0.75)\n",
              "male      AxesSubplot(0.536364,0.15;0.363636x0.75)\n",
              "dtype: object"
            ]
          },
          "metadata": {
            "tags": []
          },
          "execution_count": 3
        },
        {
          "output_type": "display_data",
          "data": {
            "image/png": "[encoded data removed]",
            "text/plain": [
              "<Figure size 432x288 with 2 Axes>"
            ]
          },
          "metadata": {
            "tags": [],
            "needs_background": "light"
          }
        }
      ]
    },
    {
      "cell_type": "markdown",
      "metadata": {
        "id": "nHjgKSBoV4XZ"
      },
      "source": [
        "Se observa que no hay gran diferencia en el costo del seguro, por lo que podemos suponer que no generan un gran bias en los datos.\n",
        "\n",
        "A pesar de esto, se opta por eliminar este atributo ya que, hoy en día, separar entre hombre y mujer no es algo correcto, a pesar de que se poseen cuerpos biológicamente distintos y, por lo tanto, diferentes probabilidades de enfermarnos, por lo que se eliminara esta columna."
      ]
    },
    {
      "cell_type": "code",
      "metadata": {
        "id": "EjOAQvUWVlGw",
        "colab": {
          "base_uri": "https://localhost:8080/",
          "height": 417
        },
        "outputId": "2b5b1420-9f88-4939-ca32-70b03abcf4a9"
      },
      "source": [
        "df.drop('sex', axis=1, inplace=True)\n",
        "df"
      ],
      "execution_count": null,
      "outputs": [
        {
          "output_type": "execute_result",
          "data": {
            "text/html": [
              "<div>\n",
              "<style scoped>\n",
              "    .dataframe tbody tr th:only-of-type {\n",
              "        vertical-align: middle;\n",
              "    }\n",
              "\n",
              "    .dataframe tbody tr th {\n",
              "        vertical-align: top;\n",
              "    }\n",
              "\n",
              "    .dataframe thead th {\n",
              "        text-align: right;\n",
              "    }\n",
              "</style>\n",
              "<table border=\"1\" class=\"dataframe\">\n",
              "  <thead>\n",
              "    <tr style=\"text-align: right;\">\n",
              "      <th></th>\n",
              "      <th>age</th>\n",
              "      <th>bmi</th>\n",
              "      <th>children</th>\n",
              "      <th>smoker</th>\n",
              "      <th>region</th>\n",
              "      <th>charges</th>\n",
              "    </tr>\n",
              "  </thead>\n",
              "  <tbody>\n",
              "    <tr>\n",
              "      <th>0</th>\n",
              "      <td>19</td>\n",
              "      <td>27.900</td>\n",
              "      <td>0</td>\n",
              "      <td>yes</td>\n",
              "      <td>southwest</td>\n",
              "      <td>16884.92400</td>\n",
              "    </tr>\n",
              "    <tr>\n",
              "      <th>1</th>\n",
              "      <td>18</td>\n",
              "      <td>33.770</td>\n",
              "      <td>1</td>\n",
              "      <td>no</td>\n",
              "      <td>southeast</td>\n",
              "      <td>1725.55230</td>\n",
              "    </tr>\n",
              "    <tr>\n",
              "      <th>2</th>\n",
              "      <td>28</td>\n",
              "      <td>33.000</td>\n",
              "      <td>3</td>\n",
              "      <td>no</td>\n",
              "      <td>southeast</td>\n",
              "      <td>4449.46200</td>\n",
              "    </tr>\n",
              "    <tr>\n",
              "      <th>3</th>\n",
              "      <td>33</td>\n",
              "      <td>22.705</td>\n",
              "      <td>0</td>\n",
              "      <td>no</td>\n",
              "      <td>northwest</td>\n",
              "      <td>21984.47061</td>\n",
              "    </tr>\n",
              "    <tr>\n",
              "      <th>4</th>\n",
              "      <td>32</td>\n",
              "      <td>28.880</td>\n",
              "      <td>0</td>\n",
              "      <td>no</td>\n",
              "      <td>northwest</td>\n",
              "      <td>3866.85520</td>\n",
              "    </tr>\n",
              "    <tr>\n",
              "      <th>...</th>\n",
              "      <td>...</td>\n",
              "      <td>...</td>\n",
              "      <td>...</td>\n",
              "      <td>...</td>\n",
              "      <td>...</td>\n",
              "      <td>...</td>\n",
              "    </tr>\n",
              "    <tr>\n",
              "      <th>1333</th>\n",
              "      <td>50</td>\n",
              "      <td>30.970</td>\n",
              "      <td>3</td>\n",
              "      <td>no</td>\n",
              "      <td>northwest</td>\n",
              "      <td>10600.54830</td>\n",
              "    </tr>\n",
              "    <tr>\n",
              "      <th>1334</th>\n",
              "      <td>18</td>\n",
              "      <td>31.920</td>\n",
              "      <td>0</td>\n",
              "      <td>no</td>\n",
              "      <td>northeast</td>\n",
              "      <td>2205.98080</td>\n",
              "    </tr>\n",
              "    <tr>\n",
              "      <th>1335</th>\n",
              "      <td>18</td>\n",
              "      <td>36.850</td>\n",
              "      <td>0</td>\n",
              "      <td>no</td>\n",
              "      <td>southeast</td>\n",
              "      <td>1629.83350</td>\n",
              "    </tr>\n",
              "    <tr>\n",
              "      <th>1336</th>\n",
              "      <td>21</td>\n",
              "      <td>25.800</td>\n",
              "      <td>0</td>\n",
              "      <td>no</td>\n",
              "      <td>southwest</td>\n",
              "      <td>2007.94500</td>\n",
              "    </tr>\n",
              "    <tr>\n",
              "      <th>1337</th>\n",
              "      <td>61</td>\n",
              "      <td>29.070</td>\n",
              "      <td>0</td>\n",
              "      <td>yes</td>\n",
              "      <td>northwest</td>\n",
              "      <td>29141.36030</td>\n",
              "    </tr>\n",
              "  </tbody>\n",
              "</table>\n",
              "<p>1338 rows × 6 columns</p>\n",
              "</div>"
            ],
            "text/plain": [
              "      age     bmi  children smoker     region      charges\n",
              "0      19  27.900         0    yes  southwest  16884.92400\n",
              "1      18  33.770         1     no  southeast   1725.55230\n",
              "2      28  33.000         3     no  southeast   4449.46200\n",
              "3      33  22.705         0     no  northwest  21984.47061\n",
              "4      32  28.880         0     no  northwest   3866.85520\n",
              "...   ...     ...       ...    ...        ...          ...\n",
              "1333   50  30.970         3     no  northwest  10600.54830\n",
              "1334   18  31.920         0     no  northeast   2205.98080\n",
              "1335   18  36.850         0     no  southeast   1629.83350\n",
              "1336   21  25.800         0     no  southwest   2007.94500\n",
              "1337   61  29.070         0    yes  northwest  29141.36030\n",
              "\n",
              "[1338 rows x 6 columns]"
            ]
          },
          "metadata": {
            "tags": []
          },
          "execution_count": 4
        }
      ]
    },
    {
      "cell_type": "code",
      "metadata": {
        "id": "W6sdcGRueFUP",
        "colab": {
          "base_uri": "https://localhost:8080/",
          "height": 79
        },
        "outputId": "9101921f-f88e-474e-8922-1f4d463dde0e"
      },
      "source": [
        "#Vemos si existe alguna fila duplicada\n",
        "duplicated_values = df.duplicated()\n",
        "df[duplicated_values]"
      ],
      "execution_count": null,
      "outputs": [
        {
          "output_type": "execute_result",
          "data": {
            "text/html": [
              "<div>\n",
              "<style scoped>\n",
              "    .dataframe tbody tr th:only-of-type {\n",
              "        vertical-align: middle;\n",
              "    }\n",
              "\n",
              "    .dataframe tbody tr th {\n",
              "        vertical-align: top;\n",
              "    }\n",
              "\n",
              "    .dataframe thead th {\n",
              "        text-align: right;\n",
              "    }\n",
              "</style>\n",
              "<table border=\"1\" class=\"dataframe\">\n",
              "  <thead>\n",
              "    <tr style=\"text-align: right;\">\n",
              "      <th></th>\n",
              "      <th>age</th>\n",
              "      <th>bmi</th>\n",
              "      <th>children</th>\n",
              "      <th>smoker</th>\n",
              "      <th>region</th>\n",
              "      <th>charges</th>\n",
              "    </tr>\n",
              "  </thead>\n",
              "  <tbody>\n",
              "    <tr>\n",
              "      <th>581</th>\n",
              "      <td>19</td>\n",
              "      <td>30.59</td>\n",
              "      <td>0</td>\n",
              "      <td>no</td>\n",
              "      <td>northwest</td>\n",
              "      <td>1639.5631</td>\n",
              "    </tr>\n",
              "  </tbody>\n",
              "</table>\n",
              "</div>"
            ],
            "text/plain": [
              "     age    bmi  children smoker     region    charges\n",
              "581   19  30.59         0     no  northwest  1639.5631"
            ]
          },
          "metadata": {
            "tags": []
          },
          "execution_count": 5
        }
      ]
    },
    {
      "cell_type": "code",
      "metadata": {
        "id": "2ZeGZoxZff2H",
        "colab": {
          "base_uri": "https://localhost:8080/",
          "height": 34
        },
        "outputId": "e799ddaf-3bca-4a40-e566-6c96be86d8ff"
      },
      "source": [
        "#Al existir una fila duplicada tenemos que tener cuidado por si es otra instancia diferente o si es la misma\n",
        "#instancia escrita dos veces. Al tener datos tan especificos como bmi, podemos asumir que son la misma \n",
        "#instancia, ya que dificilmente habrá dos personas con los mismos valores (y menos en tan pocos datos).\n",
        "#Esto se realiza para evitar que caiga la misma fila en training y validation/test.\n",
        "\n",
        "df.drop_duplicates(inplace=True)\n",
        "df.shape"
      ],
      "execution_count": null,
      "outputs": [
        {
          "output_type": "execute_result",
          "data": {
            "text/plain": [
              "(1337, 6)"
            ]
          },
          "metadata": {
            "tags": []
          },
          "execution_count": 6
        }
      ]
    },
    {
      "cell_type": "code",
      "metadata": {
        "id": "F67Gw-IKiCM5"
      },
      "source": [
        "#Dividimos los datos de entrenamiento del atributo de salida\n",
        "x = df[['age','bmi','children','smoker','region']]\n",
        "y = df['charges']"
      ],
      "execution_count": null,
      "outputs": []
    },
    {
      "cell_type": "code",
      "metadata": {
        "id": "dlp30FqnyIdR",
        "colab": {
          "base_uri": "https://localhost:8080/",
          "height": 140
        },
        "outputId": "f13dd1a8-f75e-4da1-e6c0-e168778fb853"
      },
      "source": [
        "#Pre proceso los atributos smoker y region para que sean valores numéricos\n",
        "x.loc[x['smoker']=='yes','smoker'] = 1\n",
        "x.loc[x['smoker']=='no','smoker'] = 0\n",
        "\n",
        "dict = {} #Aca guardo los valores que tomo cada valor de region\n",
        "i = 0\n",
        "for reg in x[~x['region'].duplicated()]['region']:\n",
        "  dict[reg] = i\n",
        "  x.loc[x['region'] == reg, 'region'] = i\n",
        "  i = i + 1"
      ],
      "execution_count": null,
      "outputs": [
        {
          "output_type": "stream",
          "text": [
            "/usr/local/lib/python3.6/dist-packages/pandas/core/indexing.py:966: SettingWithCopyWarning: \n",
            "A value is trying to be set on a copy of a slice from a DataFrame.\n",
            "Try using .loc[row_indexer,col_indexer] = value instead\n",
            "\n",
            "See the caveats in the documentation: https://pandas.pydata.org/pandas-docs/stable/user_guide/indexing.html#returning-a-view-versus-a-copy\n",
            "  self.obj[item] = s\n"
          ],
          "name": "stderr"
        }
      ]
    },
    {
      "cell_type": "code",
      "metadata": {
        "id": "zgwnNaaFzRAg",
        "colab": {
          "base_uri": "https://localhost:8080/",
          "height": 417
        },
        "outputId": "3945dfb8-3036-445c-cb90-d0dd1a3f688c"
      },
      "source": [
        "x"
      ],
      "execution_count": null,
      "outputs": [
        {
          "output_type": "execute_result",
          "data": {
            "text/html": [
              "<div>\n",
              "<style scoped>\n",
              "    .dataframe tbody tr th:only-of-type {\n",
              "        vertical-align: middle;\n",
              "    }\n",
              "\n",
              "    .dataframe tbody tr th {\n",
              "        vertical-align: top;\n",
              "    }\n",
              "\n",
              "    .dataframe thead th {\n",
              "        text-align: right;\n",
              "    }\n",
              "</style>\n",
              "<table border=\"1\" class=\"dataframe\">\n",
              "  <thead>\n",
              "    <tr style=\"text-align: right;\">\n",
              "      <th></th>\n",
              "      <th>age</th>\n",
              "      <th>bmi</th>\n",
              "      <th>children</th>\n",
              "      <th>smoker</th>\n",
              "      <th>region</th>\n",
              "    </tr>\n",
              "  </thead>\n",
              "  <tbody>\n",
              "    <tr>\n",
              "      <th>0</th>\n",
              "      <td>19</td>\n",
              "      <td>27.900</td>\n",
              "      <td>0</td>\n",
              "      <td>1</td>\n",
              "      <td>0</td>\n",
              "    </tr>\n",
              "    <tr>\n",
              "      <th>1</th>\n",
              "      <td>18</td>\n",
              "      <td>33.770</td>\n",
              "      <td>1</td>\n",
              "      <td>0</td>\n",
              "      <td>1</td>\n",
              "    </tr>\n",
              "    <tr>\n",
              "      <th>2</th>\n",
              "      <td>28</td>\n",
              "      <td>33.000</td>\n",
              "      <td>3</td>\n",
              "      <td>0</td>\n",
              "      <td>1</td>\n",
              "    </tr>\n",
              "    <tr>\n",
              "      <th>3</th>\n",
              "      <td>33</td>\n",
              "      <td>22.705</td>\n",
              "      <td>0</td>\n",
              "      <td>0</td>\n",
              "      <td>2</td>\n",
              "    </tr>\n",
              "    <tr>\n",
              "      <th>4</th>\n",
              "      <td>32</td>\n",
              "      <td>28.880</td>\n",
              "      <td>0</td>\n",
              "      <td>0</td>\n",
              "      <td>2</td>\n",
              "    </tr>\n",
              "    <tr>\n",
              "      <th>...</th>\n",
              "      <td>...</td>\n",
              "      <td>...</td>\n",
              "      <td>...</td>\n",
              "      <td>...</td>\n",
              "      <td>...</td>\n",
              "    </tr>\n",
              "    <tr>\n",
              "      <th>1333</th>\n",
              "      <td>50</td>\n",
              "      <td>30.970</td>\n",
              "      <td>3</td>\n",
              "      <td>0</td>\n",
              "      <td>2</td>\n",
              "    </tr>\n",
              "    <tr>\n",
              "      <th>1334</th>\n",
              "      <td>18</td>\n",
              "      <td>31.920</td>\n",
              "      <td>0</td>\n",
              "      <td>0</td>\n",
              "      <td>3</td>\n",
              "    </tr>\n",
              "    <tr>\n",
              "      <th>1335</th>\n",
              "      <td>18</td>\n",
              "      <td>36.850</td>\n",
              "      <td>0</td>\n",
              "      <td>0</td>\n",
              "      <td>1</td>\n",
              "    </tr>\n",
              "    <tr>\n",
              "      <th>1336</th>\n",
              "      <td>21</td>\n",
              "      <td>25.800</td>\n",
              "      <td>0</td>\n",
              "      <td>0</td>\n",
              "      <td>0</td>\n",
              "    </tr>\n",
              "    <tr>\n",
              "      <th>1337</th>\n",
              "      <td>61</td>\n",
              "      <td>29.070</td>\n",
              "      <td>0</td>\n",
              "      <td>1</td>\n",
              "      <td>2</td>\n",
              "    </tr>\n",
              "  </tbody>\n",
              "</table>\n",
              "<p>1337 rows × 5 columns</p>\n",
              "</div>"
            ],
            "text/plain": [
              "      age     bmi  children smoker region\n",
              "0      19  27.900         0      1      0\n",
              "1      18  33.770         1      0      1\n",
              "2      28  33.000         3      0      1\n",
              "3      33  22.705         0      0      2\n",
              "4      32  28.880         0      0      2\n",
              "...   ...     ...       ...    ...    ...\n",
              "1333   50  30.970         3      0      2\n",
              "1334   18  31.920         0      0      3\n",
              "1335   18  36.850         0      0      1\n",
              "1336   21  25.800         0      0      0\n",
              "1337   61  29.070         0      1      2\n",
              "\n",
              "[1337 rows x 5 columns]"
            ]
          },
          "metadata": {
            "tags": []
          },
          "execution_count": 9
        }
      ]
    },
    {
      "cell_type": "markdown",
      "metadata": {
        "id": "As1cNw6phtmf"
      },
      "source": [
        "Realizamos la separación entre train/val/test. Utilizando para train 80% de los datos, para validación 10% de los datos de train y para test el 20% restante de todo el conjunto."
      ]
    },
    {
      "cell_type": "markdown",
      "metadata": {
        "id": "UJF31ciz7lr1"
      },
      "source": [
        "### Importante \n",
        "Los valores de validación no son necesarios ya que en el model selection se utilizó cross validation. Sería necesario separar en datos de val en casos de que no use cross validation para entrenar al modelo, no? Lo dejo planteado para que se vea que comprendí el concepto de separar en train, val y test y comprendo su utilización. \n",
        "\n",
        "Me quedó el concepto de que siempre hay que separar en train, val y test aunque en este caso yo no lo veo necesario."
      ]
    },
    {
      "cell_type": "code",
      "metadata": {
        "id": "jwb_yGaWhtNR"
      },
      "source": [
        "from sklearn.model_selection import train_test_split\n",
        "\n",
        "#Se realiza shuffle para asegurarnos que los datos van a estar mezclados en todas las particiones\n",
        "x_train, x_test, y_train, y_test = train_test_split(x, y, test_size=.2, shuffle=True)\n",
        "x_train, x_val, y_train, y_val = train_test_split(x_train, y_train, test_size=.1) "
      ],
      "execution_count": null,
      "outputs": []
    },
    {
      "cell_type": "code",
      "metadata": {
        "id": "2p2z7135lxvo",
        "colab": {
          "base_uri": "https://localhost:8080/",
          "height": 68
        },
        "outputId": "4ea9dd0a-0178-4631-e67e-ced9973e81ff"
      },
      "source": [
        "#Cantidad de instancicas por cada particion\n",
        "print(x_train.shape)\n",
        "print(x_val.shape)\n",
        "print(x_test.shape)"
      ],
      "execution_count": null,
      "outputs": [
        {
          "output_type": "stream",
          "text": [
            "(962, 5)\n",
            "(107, 5)\n",
            "(268, 5)\n"
          ],
          "name": "stdout"
        }
      ]
    },
    {
      "cell_type": "markdown",
      "metadata": {
        "id": "dvjSZBrwlca-"
      },
      "source": [
        "Vemos si se mantiene la distribucion de los datos en los tres conjuntos"
      ]
    },
    {
      "cell_type": "code",
      "metadata": {
        "id": "L84GywVZgRYC",
        "colab": {
          "base_uri": "https://localhost:8080/",
          "height": 798
        },
        "outputId": "e81869e2-8246-46bd-eb6e-520abfc29c5a"
      },
      "source": [
        "from matplotlib import pyplot as plt\n",
        "\n",
        "relative_frequency = True\n",
        "n_bins = 50\n",
        "\n",
        "# creamos el canvas de la figura\n",
        "fig=plt.figure(figsize=(10,10))\n",
        "# agregamos los ejes\n",
        "ax=fig.add_axes([0,0,1,1])\n",
        "# hacemos histogramas de 50 baldes para los datos de entrenamiento, validación y\n",
        "# test, en los colores azul (b), verde (g) y rojo (r), con cierta transparencia \n",
        "# alpha\n",
        "ax.hist(y_train, n_bins, density=relative_frequency, facecolor='b', alpha=0.25)\n",
        "ax.hist(y_val, n_bins, density=relative_frequency, facecolor='g', alpha=0.25)\n",
        "ax.hist(y_test, n_bins, density=relative_frequency, facecolor='r', alpha=0.25)\n",
        "# agregamos las etiquetas de los ejes x e y\n",
        "ax.set_xlabel('Charge (y-label)', color='white')\n",
        "if relative_frequency:\n",
        "  ax.set_ylabel('Relative Frequency', color='white')\n",
        "else:\n",
        "  ax.set_ylabel('Absolute Frequency', color='white')\n",
        "\n",
        "ax.tick_params(axis='x', colors='white')\n",
        "ax.tick_params(axis='y', colors='white')\n",
        "\n",
        "# le colocamos un título\n",
        "ax.set_title(\n",
        "    'Histograms of y - Training, validation and test set', \n",
        "    color='white'\n",
        "    )\n",
        "# agregamos la leyenda\n",
        "ax.legend(['Training', 'Validation', 'Test'])\n",
        "ax.grid(True)\n",
        "# lo mostramos por pantalla\n",
        "plt.show()"
      ],
      "execution_count": null,
      "outputs": [
        {
          "output_type": "display_data",
          "data": {
            "image/png": "[encoded data removed]",
            "text/plain": [
              "<Figure size 720x720 with 1 Axes>"
            ]
          },
          "metadata": {
            "tags": [],
            "needs_background": "dark"
          }
        }
      ]
    },
    {
      "cell_type": "markdown",
      "metadata": {
        "id": "dhAxnLo1lQE5"
      },
      "source": [
        "Se observa que la particion de los datos tiene una distribución similar, por lo que podemos trabajar con los mismos sin problema. Se aplico la frecuencia relativa para poder observar mas detalladamente si son o no similares."
      ]
    },
    {
      "cell_type": "code",
      "metadata": {
        "id": "Z8j7paBVkF8v",
        "colab": {
          "base_uri": "https://localhost:8080/",
          "height": 366
        },
        "outputId": "84ef1804-3513-4d33-bf00-0fb13c5e45ab"
      },
      "source": [
        "from matplotlib import pyplot as plt\n",
        "#'age','bmi','children','smoker','region','charges'(y)\n",
        "#eje    [x  ,  y]\n",
        "tag = ['age','charges']\n",
        "\n",
        "\n",
        "# modificar esta variable con el índice de la feature que se quiere analizar\n",
        "variable_to_print = 2\n",
        "\n",
        "# generamos un scatter plot: por defecto, la variable objetivo la colocamos en \n",
        "# el eje Y, y a la variable cuya influencia queremos estudiar la colocamos en el \n",
        "# eje X\n",
        "fig=plt.figure()\n",
        "ax=fig.add_axes([0,0,1,1])\n",
        "if tag[1] == 'charges':\n",
        "  ax.scatter(x_train[tag[0]], y_train)\n",
        "else:\n",
        "  ax.scatter(x_train[tag[0]], x_train[tag[1]])\n",
        "\n",
        "ax.grid(True)\n",
        "ax.set_xlabel(tag[0])\n",
        "ax.set_ylabel(tag[1])\n",
        "ax.set_title('Scatter plot - {} vs {}'.format(tag[0], tag[1]))\n",
        "plt.show()"
      ],
      "execution_count": null,
      "outputs": [
        {
          "output_type": "display_data",
          "data": {
            "image/png": "[encoded data removed]",
            "text/plain": [
              "<Figure size 432x288 with 1 Axes>"
            ]
          },
          "metadata": {
            "tags": [],
            "needs_background": "light"
          }
        }
      ]
    },
    {
      "cell_type": "markdown",
      "metadata": {
        "id": "InXmPid_oo4n"
      },
      "source": [
        "Age vs Charges: se observan tres \"lineas\" crecientes, las cuales deben poseer tanta diferencia en el costo debido a otros atributos. Se podría decir que mientras mas alta es la edad más caro es el monto del seguro, aunque esto se ve influenciado por otros atributos tambien. Tiene sentido ya que la edad influye en gran modo al costo de un seguro (una persona mayor es mas propensa a enfermarse).\n",
        "\n",
        "BMI vs Charges: no hay ninguna relacion directa. Con un BMI de valores 35 es donde se agrupan los valores mas altos de seguro. Yo creería que mientras más elevado es el BMI más alto debería ser el monto del seguro, pero por lo visto no es así. Necesito más información para comprender por qué sucede esto.\n",
        "\n",
        "Children vs Charges: en caso de tener 4 hijos el monto baja y en caso de tener 5 disminuye aún más. Esto puede deberse a que la gente con muchos hijos debe mantenerse sana para poder lidiar con todo.\n",
        "\n",
        "Smoking vs Charges: si fumas el seguro es mas caro porque hay mas chances de enfermarte...\n",
        "\n",
        "Region vs Charges: no se visualiza ninguna diferencia notable enrte las diferentes regiones.\n",
        "\n",
        "Region vs BMI: la gente de southeast parece ser la mas obesa. Esto puede deberse al estilo de vida que se lleva en ese lugar.\n",
        "\n",
        "\n",
        "Pasamos a la parte de estandarización de los datos...\n"
      ]
    },
    {
      "cell_type": "code",
      "metadata": {
        "id": "I7EA90wO4SL1",
        "colab": {
          "base_uri": "https://localhost:8080/",
          "height": 248
        },
        "outputId": "af35f5db-66ff-4f2f-b0c1-83ee5f691c6b"
      },
      "source": [
        "#Se plotea en 3D los tres atributos continuos que se tienen\n",
        "#y se observa, principalmente, que en la mayoria de los casos a menor edad es mas barato\n",
        "\n",
        "ax = plt.axes(projection='3d')\n",
        "#Tocar los siguientes valores para ver desde otra perspectiva el grafico\n",
        "ax.view_init(60, 20)\n",
        "\n",
        "ax.scatter3D(x_train['age'], x_train['bmi'], x_train['children'], c=y_train, cmap='viridis');\n",
        "plt.grid(True)\n",
        "plt.xlabel('age')\n",
        "plt.ylabel('bmi')\n",
        "#No me deja mostrar los colores, pero mas oscuro es mas barato y mas claro mas caro\n",
        "plt.show()"
      ],
      "execution_count": null,
      "outputs": [
        {
          "output_type": "display_data",
          "data": {
            "image/png": "[encoded data removed]",
            "text/plain": [
              "<Figure size 432x288 with 1 Axes>"
            ]
          },
          "metadata": {
            "tags": [],
            "needs_background": "light"
          }
        }
      ]
    },
    {
      "cell_type": "code",
      "metadata": {
        "id": "PWxDnX0-vAkK"
      },
      "source": [
        "from sklearn.preprocessing import StandardScaler\n",
        "\n",
        "#Aplico estandarización a TODOS los atributos continuos.\n",
        "#A los discretos que los transforme en numeros NO porque no tiene sentido.\n",
        "scaler = StandardScaler() #Hay que guardar ss para futuros valores (val, test, datos en situacion real)\n",
        "scaler.fit(x_train[['age','bmi','children']])\n",
        "x_train[['age','bmi','children']] = scaler.transform(x_train[['age','bmi','children']])"
      ],
      "execution_count": null,
      "outputs": []
    },
    {
      "cell_type": "code",
      "metadata": {
        "id": "WyGkSygf3PmH",
        "colab": {
          "base_uri": "https://localhost:8080/",
          "height": 417
        },
        "outputId": "71bd71c6-e78b-490c-a4c5-7f7647ec0940"
      },
      "source": [
        "x_train"
      ],
      "execution_count": null,
      "outputs": [
        {
          "output_type": "execute_result",
          "data": {
            "text/html": [
              "<div>\n",
              "<style scoped>\n",
              "    .dataframe tbody tr th:only-of-type {\n",
              "        vertical-align: middle;\n",
              "    }\n",
              "\n",
              "    .dataframe tbody tr th {\n",
              "        vertical-align: top;\n",
              "    }\n",
              "\n",
              "    .dataframe thead th {\n",
              "        text-align: right;\n",
              "    }\n",
              "</style>\n",
              "<table border=\"1\" class=\"dataframe\">\n",
              "  <thead>\n",
              "    <tr style=\"text-align: right;\">\n",
              "      <th></th>\n",
              "      <th>age</th>\n",
              "      <th>bmi</th>\n",
              "      <th>children</th>\n",
              "      <th>smoker</th>\n",
              "      <th>region</th>\n",
              "    </tr>\n",
              "  </thead>\n",
              "  <tbody>\n",
              "    <tr>\n",
              "      <th>508</th>\n",
              "      <td>-1.048804</td>\n",
              "      <td>-0.892072</td>\n",
              "      <td>-0.876379</td>\n",
              "      <td>0</td>\n",
              "      <td>3</td>\n",
              "    </tr>\n",
              "    <tr>\n",
              "      <th>241</th>\n",
              "      <td>-0.411170</td>\n",
              "      <td>-1.411358</td>\n",
              "      <td>-0.047395</td>\n",
              "      <td>0</td>\n",
              "      <td>3</td>\n",
              "    </tr>\n",
              "    <tr>\n",
              "      <th>1027</th>\n",
              "      <td>-1.119652</td>\n",
              "      <td>-1.977851</td>\n",
              "      <td>-0.876379</td>\n",
              "      <td>0</td>\n",
              "      <td>2</td>\n",
              "    </tr>\n",
              "    <tr>\n",
              "      <th>467</th>\n",
              "      <td>1.218338</td>\n",
              "      <td>0.524161</td>\n",
              "      <td>0.781588</td>\n",
              "      <td>0</td>\n",
              "      <td>2</td>\n",
              "    </tr>\n",
              "    <tr>\n",
              "      <th>867</th>\n",
              "      <td>1.289187</td>\n",
              "      <td>2.160697</td>\n",
              "      <td>-0.047395</td>\n",
              "      <td>0</td>\n",
              "      <td>0</td>\n",
              "    </tr>\n",
              "    <tr>\n",
              "      <th>...</th>\n",
              "      <td>...</td>\n",
              "      <td>...</td>\n",
              "      <td>...</td>\n",
              "      <td>...</td>\n",
              "      <td>...</td>\n",
              "    </tr>\n",
              "    <tr>\n",
              "      <th>528</th>\n",
              "      <td>0.509857</td>\n",
              "      <td>1.452580</td>\n",
              "      <td>-0.047395</td>\n",
              "      <td>0</td>\n",
              "      <td>3</td>\n",
              "    </tr>\n",
              "    <tr>\n",
              "      <th>144</th>\n",
              "      <td>-0.623714</td>\n",
              "      <td>-0.325579</td>\n",
              "      <td>1.610572</td>\n",
              "      <td>1</td>\n",
              "      <td>2</td>\n",
              "    </tr>\n",
              "    <tr>\n",
              "      <th>1061</th>\n",
              "      <td>1.289187</td>\n",
              "      <td>-0.449810</td>\n",
              "      <td>-0.047395</td>\n",
              "      <td>0</td>\n",
              "      <td>1</td>\n",
              "    </tr>\n",
              "    <tr>\n",
              "      <th>273</th>\n",
              "      <td>0.793249</td>\n",
              "      <td>-0.530146</td>\n",
              "      <td>-0.047395</td>\n",
              "      <td>0</td>\n",
              "      <td>3</td>\n",
              "    </tr>\n",
              "    <tr>\n",
              "      <th>23</th>\n",
              "      <td>-0.340322</td>\n",
              "      <td>0.209442</td>\n",
              "      <td>-0.047395</td>\n",
              "      <td>1</td>\n",
              "      <td>3</td>\n",
              "    </tr>\n",
              "  </tbody>\n",
              "</table>\n",
              "<p>962 rows × 5 columns</p>\n",
              "</div>"
            ],
            "text/plain": [
              "           age       bmi  children smoker region\n",
              "508  -1.048804 -0.892072 -0.876379      0      3\n",
              "241  -0.411170 -1.411358 -0.047395      0      3\n",
              "1027 -1.119652 -1.977851 -0.876379      0      2\n",
              "467   1.218338  0.524161  0.781588      0      2\n",
              "867   1.289187  2.160697 -0.047395      0      0\n",
              "...        ...       ...       ...    ...    ...\n",
              "528   0.509857  1.452580 -0.047395      0      3\n",
              "144  -0.623714 -0.325579  1.610572      1      2\n",
              "1061  1.289187 -0.449810 -0.047395      0      1\n",
              "273   0.793249 -0.530146 -0.047395      0      3\n",
              "23   -0.340322  0.209442 -0.047395      1      3\n",
              "\n",
              "[962 rows x 5 columns]"
            ]
          },
          "metadata": {
            "tags": []
          },
          "execution_count": 16
        }
      ]
    },
    {
      "cell_type": "code",
      "metadata": {
        "id": "K6OD_8qb0uvy",
        "colab": {
          "base_uri": "https://localhost:8080/",
          "height": 295
        },
        "outputId": "868f648b-fd9d-438d-fcdf-1285edb909f1"
      },
      "source": [
        "# importamos la librería de PCA\n",
        "from sklearn.decomposition import PCA\n",
        "\n",
        "# declaramos un objeto PCA que mapee n dimensions a p=2 (ya que antes era p=3), y que además\n",
        "# normalice esas features resultantes (whiten=True)\n",
        "pca = PCA(n_components=2, whiten=True)\n",
        "\n",
        "#Lo utilizamos unicamente para variables NO CATEGORICAS, ya que no tiene sentido...\n",
        "pca = pca.fit(x_train[['age','bmi','children']])\n",
        "\n",
        "# aplicamos la transformación aprendida sobre los datos de entrenamiento\n",
        "X_train_pca = pca.transform(x_train[['age','bmi','children']])\n",
        "\n",
        "# graficamos los datos. el color de cada punto representa el valor de la casa\n",
        "plt.scatter(X_train_pca[:,0], X_train_pca[:,1], c=y_train, cmap='viridis')\n",
        "plt.grid(True)\n",
        "plt.xlabel('PCA projection 1')\n",
        "plt.ylabel('PCA projection 2')\n",
        "plt.title('PCA projection of the data set')\n",
        "plt.colorbar()\n",
        "plt.show()"
      ],
      "execution_count": null,
      "outputs": [
        {
          "output_type": "display_data",
          "data": {
            "image/png": "[encoded data removed]",
            "text/plain": [
              "<Figure size 432x288 with 2 Axes>"
            ]
          },
          "metadata": {
            "tags": [],
            "needs_background": "light"
          }
        }
      ]
    },
    {
      "cell_type": "markdown",
      "metadata": {
        "id": "-i_h9xUb3l_C"
      },
      "source": [
        "Se observa que no se encuentra una separación facilmente entendible entre los datos. Los costos mas bajos parecerian estar a la izquierda del 0 en el eje x, aunque no llega a encontrarse facilmente una separación entre los costos. Hay que tener en cuenta que no se tomaron en cuenta los atributos categóricos para este análisis, ya que sería incorrecto evaluarlas como si fuesen continuas (a pesar de ser un número, representan un valor específico, no un valor numérico)."
      ]
    },
    {
      "cell_type": "code",
      "metadata": {
        "id": "eV2jklR_6sVS",
        "colab": {
          "base_uri": "https://localhost:8080/",
          "height": 295
        },
        "outputId": "ed77d203-fdf8-42d2-898d-da1045da0dcc"
      },
      "source": [
        "# importamos la librería de PCA\n",
        "from sklearn.decomposition import PCA\n",
        "\n",
        "# declaramos un objeto PCA que mapee n dimensions a p=1, y que además\n",
        "# normalice esas features resultantes (whiten=True)\n",
        "pca = PCA(n_components=1, whiten=True)\n",
        "\n",
        "#Lo utilizamos unicamente para variables NO CATEGORICAS, ya que no tiene sentido...\n",
        "pca = pca.fit(x_train[['age','bmi','children']])\n",
        "\n",
        "# aplicamos la transformación aprendida sobre los datos de entrenamiento\n",
        "X_train_pca = pca.transform(x_train[['age','bmi','children']])\n",
        "\n",
        "y_pca = X_train_pca.copy()\n",
        "y_pca[:,0] = 0\n",
        "# graficamos los datos. el color de cada punto representa el valor de la casa\n",
        "plt.scatter(X_train_pca[:,0], y_pca, c=y_train, cmap='viridis')\n",
        "plt.grid(True)\n",
        "plt.xlabel('PCA projection 1')\n",
        "plt.title('PCA projection of the data set')\n",
        "plt.colorbar()\n",
        "plt.show()"
      ],
      "execution_count": null,
      "outputs": [
        {
          "output_type": "display_data",
          "data": {
            "image/png": "[encoded data removed]",
            "text/plain": [
              "<Figure size 432x288 with 2 Axes>"
            ]
          },
          "metadata": {
            "tags": [],
            "needs_background": "light"
          }
        }
      ]
    },
    {
      "cell_type": "markdown",
      "metadata": {
        "id": "Nasjd5B879iu"
      },
      "source": [
        "Al tener solo 3 dimensiones en los atributos originales (exceptuando los categoricos), se probó realizar un PCA para una sola dimensión y ver si se encontraba algun resultado útil. Se observa que se aclara un poco para la parte de los positivos del 0, aunque no en gran medida. \n",
        "\n",
        "Podemos concluir que con los datos que se poseen el gráfico que mayor nos ayudo a la visualización fue el 3D por dos motivos: \n",
        "1- nos muestra los datos en las escalas conocidas (originales)\n",
        "2- se logró encontrar una especie de separación entre los datos menos costosos del resto.\n",
        "\n",
        "PCA nos modifica las escalas y no es tan facilmente interpretable el gráfico. En este caso, al querer visualizar solo 3 valores, utilizar un gráfico 3D me parece la mejor opción."
      ]
    },
    {
      "cell_type": "markdown",
      "metadata": {
        "id": "wULAoOxSOVqy"
      },
      "source": [
        "### Dejo escrito todo lo del TP1 para mantener al alcanza las justificaciones de las decisiones. A partir de aca comienza lo desarrollado especificamente para el tp 2."
      ]
    },
    {
      "cell_type": "markdown",
      "metadata": {
        "id": "7AhdwxLzOtpj"
      },
      "source": [
        "Como se comentó anteriormente, el problema a resolver es el de encontrar el costo que tendra el seguro para cada persona segun ciertos atributos. En este caso los atributos son la edad, cantidad de hijos, sexo, si es o no fumadora, region a la que pertenece y el indice de masa corporal.\n"
      ]
    },
    {
      "cell_type": "code",
      "metadata": {
        "id": "DB0R1Eso7n3p",
        "colab": {
          "base_uri": "https://localhost:8080/",
          "height": 417
        },
        "outputId": "37f1d00b-08e2-43ed-cbf8-253c2f3e0138"
      },
      "source": [
        "x_train"
      ],
      "execution_count": null,
      "outputs": [
        {
          "output_type": "execute_result",
          "data": {
            "text/html": [
              "<div>\n",
              "<style scoped>\n",
              "    .dataframe tbody tr th:only-of-type {\n",
              "        vertical-align: middle;\n",
              "    }\n",
              "\n",
              "    .dataframe tbody tr th {\n",
              "        vertical-align: top;\n",
              "    }\n",
              "\n",
              "    .dataframe thead th {\n",
              "        text-align: right;\n",
              "    }\n",
              "</style>\n",
              "<table border=\"1\" class=\"dataframe\">\n",
              "  <thead>\n",
              "    <tr style=\"text-align: right;\">\n",
              "      <th></th>\n",
              "      <th>age</th>\n",
              "      <th>bmi</th>\n",
              "      <th>children</th>\n",
              "      <th>smoker</th>\n",
              "      <th>region</th>\n",
              "    </tr>\n",
              "  </thead>\n",
              "  <tbody>\n",
              "    <tr>\n",
              "      <th>508</th>\n",
              "      <td>-1.048804</td>\n",
              "      <td>-0.892072</td>\n",
              "      <td>-0.876379</td>\n",
              "      <td>0</td>\n",
              "      <td>3</td>\n",
              "    </tr>\n",
              "    <tr>\n",
              "      <th>241</th>\n",
              "      <td>-0.411170</td>\n",
              "      <td>-1.411358</td>\n",
              "      <td>-0.047395</td>\n",
              "      <td>0</td>\n",
              "      <td>3</td>\n",
              "    </tr>\n",
              "    <tr>\n",
              "      <th>1027</th>\n",
              "      <td>-1.119652</td>\n",
              "      <td>-1.977851</td>\n",
              "      <td>-0.876379</td>\n",
              "      <td>0</td>\n",
              "      <td>2</td>\n",
              "    </tr>\n",
              "    <tr>\n",
              "      <th>467</th>\n",
              "      <td>1.218338</td>\n",
              "      <td>0.524161</td>\n",
              "      <td>0.781588</td>\n",
              "      <td>0</td>\n",
              "      <td>2</td>\n",
              "    </tr>\n",
              "    <tr>\n",
              "      <th>867</th>\n",
              "      <td>1.289187</td>\n",
              "      <td>2.160697</td>\n",
              "      <td>-0.047395</td>\n",
              "      <td>0</td>\n",
              "      <td>0</td>\n",
              "    </tr>\n",
              "    <tr>\n",
              "      <th>...</th>\n",
              "      <td>...</td>\n",
              "      <td>...</td>\n",
              "      <td>...</td>\n",
              "      <td>...</td>\n",
              "      <td>...</td>\n",
              "    </tr>\n",
              "    <tr>\n",
              "      <th>528</th>\n",
              "      <td>0.509857</td>\n",
              "      <td>1.452580</td>\n",
              "      <td>-0.047395</td>\n",
              "      <td>0</td>\n",
              "      <td>3</td>\n",
              "    </tr>\n",
              "    <tr>\n",
              "      <th>144</th>\n",
              "      <td>-0.623714</td>\n",
              "      <td>-0.325579</td>\n",
              "      <td>1.610572</td>\n",
              "      <td>1</td>\n",
              "      <td>2</td>\n",
              "    </tr>\n",
              "    <tr>\n",
              "      <th>1061</th>\n",
              "      <td>1.289187</td>\n",
              "      <td>-0.449810</td>\n",
              "      <td>-0.047395</td>\n",
              "      <td>0</td>\n",
              "      <td>1</td>\n",
              "    </tr>\n",
              "    <tr>\n",
              "      <th>273</th>\n",
              "      <td>0.793249</td>\n",
              "      <td>-0.530146</td>\n",
              "      <td>-0.047395</td>\n",
              "      <td>0</td>\n",
              "      <td>3</td>\n",
              "    </tr>\n",
              "    <tr>\n",
              "      <th>23</th>\n",
              "      <td>-0.340322</td>\n",
              "      <td>0.209442</td>\n",
              "      <td>-0.047395</td>\n",
              "      <td>1</td>\n",
              "      <td>3</td>\n",
              "    </tr>\n",
              "  </tbody>\n",
              "</table>\n",
              "<p>962 rows × 5 columns</p>\n",
              "</div>"
            ],
            "text/plain": [
              "           age       bmi  children smoker region\n",
              "508  -1.048804 -0.892072 -0.876379      0      3\n",
              "241  -0.411170 -1.411358 -0.047395      0      3\n",
              "1027 -1.119652 -1.977851 -0.876379      0      2\n",
              "467   1.218338  0.524161  0.781588      0      2\n",
              "867   1.289187  2.160697 -0.047395      0      0\n",
              "...        ...       ...       ...    ...    ...\n",
              "528   0.509857  1.452580 -0.047395      0      3\n",
              "144  -0.623714 -0.325579  1.610572      1      2\n",
              "1061  1.289187 -0.449810 -0.047395      0      1\n",
              "273   0.793249 -0.530146 -0.047395      0      3\n",
              "23   -0.340322  0.209442 -0.047395      1      3\n",
              "\n",
              "[962 rows x 5 columns]"
            ]
          },
          "metadata": {
            "tags": []
          },
          "execution_count": 19
        }
      ]
    },
    {
      "cell_type": "code",
      "metadata": {
        "id": "wTg8GLKX655M"
      },
      "source": [
        "#Al no tener manera segura de manejar las variables categóricas con más de un valor se \n",
        "#opta por eliminarlas. El caso de smoker no es problema porque solo hay dos valores.\n",
        "#Los casos que generarian problema son los de region, los cuales un predictor que no tiene\n",
        "#en cuenta que son valores categóricos podría tomar ciertos valores para x > 1,\n",
        "#lo cual sería incorrecto ya que 2 y 3 representan regiones completamente diferentes.\n",
        "\n",
        "x_train = x_train[['age','bmi','children','smoker']]\n",
        "x_test = x_test[['age','bmi','children','smoker']]\n",
        "x_val = x_val[['age','bmi','children','smoker']]\n"
      ],
      "execution_count": null,
      "outputs": []
    },
    {
      "cell_type": "code",
      "metadata": {
        "id": "G6gqOuU7fPE5"
      },
      "source": [
        "#aplico el scaler a x_test y x_val para estandarizarlos\n",
        "x_test[['age','bmi','children']] = scaler.transform(x_test[['age','bmi','children']])\n",
        "x_val[['age','bmi','children']] = scaler.transform(x_val[['age','bmi','children']])"
      ],
      "execution_count": null,
      "outputs": []
    },
    {
      "cell_type": "markdown",
      "metadata": {
        "id": "zS1f3oosSdMM"
      },
      "source": [
        "Comienzo probando con RandomForestClassifier ya que calcula internamente las features a las que mas importancia les da para evaluar.\n",
        "\n",
        "Comienzo a buscar el mejor modelo buscando por la cantidad de arboles a utilizar y la profundidad máxima permitida."
      ]
    },
    {
      "cell_type": "code",
      "metadata": {
        "id": "KhRAweWQPGDV"
      },
      "source": [
        "from sklearn.ensemble import RandomForestRegressor\n",
        "from sklearn.linear_model import Ridge\n",
        "from sklearn.model_selection import GridSearchCV\n",
        "\n",
        "rfr_parameters = {\"n_estimators\": [5, 50, 300, 700, 2000, 5000],\n",
        "              \"max_depth\": [2, 3, 4, 7, 12, 20]}\n",
        "\n",
        "rr_parameters = {\"alpha\": [0.00001, 0.001, 0.1, 1, 5, 10, 100, 1000]}\n",
        "\n",
        "rr = Ridge()\n",
        "rfr = RandomForestRegressor()\n",
        "rr_grid = GridSearchCV(rr, param_grid=rr_parameters)\n",
        "rfr_grid = GridSearchCV(rfr, param_grid=rfr_parameters)"
      ],
      "execution_count": null,
      "outputs": []
    },
    {
      "cell_type": "code",
      "metadata": {
        "id": "7nyYez52TvLD",
        "colab": {
          "base_uri": "https://localhost:8080/",
          "height": 1000
        },
        "outputId": "86433b7b-6cb3-4f12-8be1-f185e3498a38"
      },
      "source": [
        "#Hago model selection para los RidgeRegression y RandomForestRegressor\n",
        "rfr_grid.fit(x_train, pd.DataFrame(y_train))\n",
        "\n",
        "rr_grid.fit(x_train, pd.DataFrame(y_train))"
      ],
      "execution_count": null,
      "outputs": [
        {
          "output_type": "stream",
          "text": [
            "/usr/local/lib/python3.6/dist-packages/sklearn/model_selection/_validation.py:515: DataConversionWarning: A column-vector y was passed when a 1d array was expected. Please change the shape of y to (n_samples,), for example using ravel().\n",
            "  estimator.fit(X_train, y_train, **fit_params)\n",
            "/usr/local/lib/python3.6/dist-packages/sklearn/model_selection/_validation.py:515: DataConversionWarning: A column-vector y was passed when a 1d array was expected. Please change the shape of y to (n_samples,), for example using ravel().\n",
            "  estimator.fit(X_train, y_train, **fit_params)\n",
            "/usr/local/lib/python3.6/dist-packages/sklearn/model_selection/_validation.py:515: DataConversionWarning: A column-vector y was passed when a 1d array was expected. Please change the shape of y to (n_samples,), for example using ravel().\n",
            "  estimator.fit(X_train, y_train, **fit_params)\n",
            "/usr/local/lib/python3.6/dist-packages/sklearn/model_selection/_validation.py:515: DataConversionWarning: A column-vector y was passed when a 1d array was expected. Please change the shape of y to (n_samples,), for example using ravel().\n",
            "  estimator.fit(X_train, y_train, **fit_params)\n",
            "/usr/local/lib/python3.6/dist-packages/sklearn/model_selection/_validation.py:515: DataConversionWarning: A column-vector y was passed when a 1d array was expected. Please change the shape of y to (n_samples,), for example using ravel().\n",
            "  estimator.fit(X_train, y_train, **fit_params)\n",
            "/usr/local/lib/python3.6/dist-packages/sklearn/model_selection/_validation.py:515: DataConversionWarning: A column-vector y was passed when a 1d array was expected. Please change the shape of y to (n_samples,), for example using ravel().\n",
            "  estimator.fit(X_train, y_train, **fit_params)\n",
            "/usr/local/lib/python3.6/dist-packages/sklearn/model_selection/_validation.py:515: DataConversionWarning: A column-vector y was passed when a 1d array was expected. Please change the shape of y to (n_samples,), for example using ravel().\n",
            "  estimator.fit(X_train, y_train, **fit_params)\n",
            "/usr/local/lib/python3.6/dist-packages/sklearn/model_selection/_validation.py:515: DataConversionWarning: A column-vector y was passed when a 1d array was expected. Please change the shape of y to (n_samples,), for example using ravel().\n",
            "  estimator.fit(X_train, y_train, **fit_params)\n",
            "/usr/local/lib/python3.6/dist-packages/sklearn/model_selection/_validation.py:515: DataConversionWarning: A column-vector y was passed when a 1d array was expected. Please change the shape of y to (n_samples,), for example using ravel().\n",
            "  estimator.fit(X_train, y_train, **fit_params)\n",
            "/usr/local/lib/python3.6/dist-packages/sklearn/model_selection/_validation.py:515: DataConversionWarning: A column-vector y was passed when a 1d array was expected. Please change the shape of y to (n_samples,), for example using ravel().\n",
            "  estimator.fit(X_train, y_train, **fit_params)\n",
            "/usr/local/lib/python3.6/dist-packages/sklearn/model_selection/_validation.py:515: DataConversionWarning: A column-vector y was passed when a 1d array was expected. Please change the shape of y to (n_samples,), for example using ravel().\n",
            "  estimator.fit(X_train, y_train, **fit_params)\n",
            "/usr/local/lib/python3.6/dist-packages/sklearn/model_selection/_validation.py:515: DataConversionWarning: A column-vector y was passed when a 1d array was expected. Please change the shape of y to (n_samples,), for example using ravel().\n",
            "  estimator.fit(X_train, y_train, **fit_params)\n",
            "/usr/local/lib/python3.6/dist-packages/sklearn/model_selection/_validation.py:515: DataConversionWarning: A column-vector y was passed when a 1d array was expected. Please change the shape of y to (n_samples,), for example using ravel().\n",
            "  estimator.fit(X_train, y_train, **fit_params)\n",
            "/usr/local/lib/python3.6/dist-packages/sklearn/model_selection/_validation.py:515: DataConversionWarning: A column-vector y was passed when a 1d array was expected. Please change the shape of y to (n_samples,), for example using ravel().\n",
            "  estimator.fit(X_train, y_train, **fit_params)\n",
            "/usr/local/lib/python3.6/dist-packages/sklearn/model_selection/_validation.py:515: DataConversionWarning: A column-vector y was passed when a 1d array was expected. Please change the shape of y to (n_samples,), for example using ravel().\n",
            "  estimator.fit(X_train, y_train, **fit_params)\n",
            "/usr/local/lib/python3.6/dist-packages/sklearn/model_selection/_validation.py:515: DataConversionWarning: A column-vector y was passed when a 1d array was expected. Please change the shape of y to (n_samples,), for example using ravel().\n",
            "  estimator.fit(X_train, y_train, **fit_params)\n",
            "/usr/local/lib/python3.6/dist-packages/sklearn/model_selection/_validation.py:515: DataConversionWarning: A column-vector y was passed when a 1d array was expected. Please change the shape of y to (n_samples,), for example using ravel().\n",
            "  estimator.fit(X_train, y_train, **fit_params)\n",
            "/usr/local/lib/python3.6/dist-packages/sklearn/model_selection/_validation.py:515: DataConversionWarning: A column-vector y was passed when a 1d array was expected. Please change the shape of y to (n_samples,), for example using ravel().\n",
            "  estimator.fit(X_train, y_train, **fit_params)\n",
            "/usr/local/lib/python3.6/dist-packages/sklearn/model_selection/_validation.py:515: DataConversionWarning: A column-vector y was passed when a 1d array was expected. Please change the shape of y to (n_samples,), for example using ravel().\n",
            "  estimator.fit(X_train, y_train, **fit_params)\n",
            "/usr/local/lib/python3.6/dist-packages/sklearn/model_selection/_validation.py:515: DataConversionWarning: A column-vector y was passed when a 1d array was expected. Please change the shape of y to (n_samples,), for example using ravel().\n",
            "  estimator.fit(X_train, y_train, **fit_params)\n",
            "/usr/local/lib/python3.6/dist-packages/sklearn/model_selection/_validation.py:515: DataConversionWarning: A column-vector y was passed when a 1d array was expected. Please change the shape of y to (n_samples,), for example using ravel().\n",
            "  estimator.fit(X_train, y_train, **fit_params)\n",
            "/usr/local/lib/python3.6/dist-packages/sklearn/model_selection/_validation.py:515: DataConversionWarning: A column-vector y was passed when a 1d array was expected. Please change the shape of y to (n_samples,), for example using ravel().\n",
            "  estimator.fit(X_train, y_train, **fit_params)\n",
            "/usr/local/lib/python3.6/dist-packages/sklearn/model_selection/_validation.py:515: DataConversionWarning: A column-vector y was passed when a 1d array was expected. Please change the shape of y to (n_samples,), for example using ravel().\n",
            "  estimator.fit(X_train, y_train, **fit_params)\n",
            "/usr/local/lib/python3.6/dist-packages/sklearn/model_selection/_validation.py:515: DataConversionWarning: A column-vector y was passed when a 1d array was expected. Please change the shape of y to (n_samples,), for example using ravel().\n",
            "  estimator.fit(X_train, y_train, **fit_params)\n",
            "/usr/local/lib/python3.6/dist-packages/sklearn/model_selection/_validation.py:515: DataConversionWarning: A column-vector y was passed when a 1d array was expected. Please change the shape of y to (n_samples,), for example using ravel().\n",
            "  estimator.fit(X_train, y_train, **fit_params)\n",
            "/usr/local/lib/python3.6/dist-packages/sklearn/model_selection/_validation.py:515: DataConversionWarning: A column-vector y was passed when a 1d array was expected. Please change the shape of y to (n_samples,), for example using ravel().\n",
            "  estimator.fit(X_train, y_train, **fit_params)\n",
            "/usr/local/lib/python3.6/dist-packages/sklearn/model_selection/_validation.py:515: DataConversionWarning: A column-vector y was passed when a 1d array was expected. Please change the shape of y to (n_samples,), for example using ravel().\n",
            "  estimator.fit(X_train, y_train, **fit_params)\n",
            "/usr/local/lib/python3.6/dist-packages/sklearn/model_selection/_validation.py:515: DataConversionWarning: A column-vector y was passed when a 1d array was expected. Please change the shape of y to (n_samples,), for example using ravel().\n",
            "  estimator.fit(X_train, y_train, **fit_params)\n",
            "/usr/local/lib/python3.6/dist-packages/sklearn/model_selection/_validation.py:515: DataConversionWarning: A column-vector y was passed when a 1d array was expected. Please change the shape of y to (n_samples,), for example using ravel().\n",
            "  estimator.fit(X_train, y_train, **fit_params)\n",
            "/usr/local/lib/python3.6/dist-packages/sklearn/model_selection/_validation.py:515: DataConversionWarning: A column-vector y was passed when a 1d array was expected. Please change the shape of y to (n_samples,), for example using ravel().\n",
            "  estimator.fit(X_train, y_train, **fit_params)\n",
            "/usr/local/lib/python3.6/dist-packages/sklearn/model_selection/_validation.py:515: DataConversionWarning: A column-vector y was passed when a 1d array was expected. Please change the shape of y to (n_samples,), for example using ravel().\n",
            "  estimator.fit(X_train, y_train, **fit_params)\n",
            "/usr/local/lib/python3.6/dist-packages/sklearn/model_selection/_validation.py:515: DataConversionWarning: A column-vector y was passed when a 1d array was expected. Please change the shape of y to (n_samples,), for example using ravel().\n",
            "  estimator.fit(X_train, y_train, **fit_params)\n",
            "/usr/local/lib/python3.6/dist-packages/sklearn/model_selection/_validation.py:515: DataConversionWarning: A column-vector y was passed when a 1d array was expected. Please change the shape of y to (n_samples,), for example using ravel().\n",
            "  estimator.fit(X_train, y_train, **fit_params)\n",
            "/usr/local/lib/python3.6/dist-packages/sklearn/model_selection/_validation.py:515: DataConversionWarning: A column-vector y was passed when a 1d array was expected. Please change the shape of y to (n_samples,), for example using ravel().\n",
            "  estimator.fit(X_train, y_train, **fit_params)\n",
            "/usr/local/lib/python3.6/dist-packages/sklearn/model_selection/_validation.py:515: DataConversionWarning: A column-vector y was passed when a 1d array was expected. Please change the shape of y to (n_samples,), for example using ravel().\n",
            "  estimator.fit(X_train, y_train, **fit_params)\n",
            "/usr/local/lib/python3.6/dist-packages/sklearn/model_selection/_validation.py:515: DataConversionWarning: A column-vector y was passed when a 1d array was expected. Please change the shape of y to (n_samples,), for example using ravel().\n",
            "  estimator.fit(X_train, y_train, **fit_params)\n",
            "/usr/local/lib/python3.6/dist-packages/sklearn/model_selection/_validation.py:515: DataConversionWarning: A column-vector y was passed when a 1d array was expected. Please change the shape of y to (n_samples,), for example using ravel().\n",
            "  estimator.fit(X_train, y_train, **fit_params)\n",
            "/usr/local/lib/python3.6/dist-packages/sklearn/model_selection/_validation.py:515: DataConversionWarning: A column-vector y was passed when a 1d array was expected. Please change the shape of y to (n_samples,), for example using ravel().\n",
            "  estimator.fit(X_train, y_train, **fit_params)\n",
            "/usr/local/lib/python3.6/dist-packages/sklearn/model_selection/_validation.py:515: DataConversionWarning: A column-vector y was passed when a 1d array was expected. Please change the shape of y to (n_samples,), for example using ravel().\n",
            "  estimator.fit(X_train, y_train, **fit_params)\n",
            "/usr/local/lib/python3.6/dist-packages/sklearn/model_selection/_validation.py:515: DataConversionWarning: A column-vector y was passed when a 1d array was expected. Please change the shape of y to (n_samples,), for example using ravel().\n",
            "  estimator.fit(X_train, y_train, **fit_params)\n",
            "/usr/local/lib/python3.6/dist-packages/sklearn/model_selection/_validation.py:515: DataConversionWarning: A column-vector y was passed when a 1d array was expected. Please change the shape of y to (n_samples,), for example using ravel().\n",
            "  estimator.fit(X_train, y_train, **fit_params)\n",
            "/usr/local/lib/python3.6/dist-packages/sklearn/model_selection/_validation.py:515: DataConversionWarning: A column-vector y was passed when a 1d array was expected. Please change the shape of y to (n_samples,), for example using ravel().\n",
            "  estimator.fit(X_train, y_train, **fit_params)\n",
            "/usr/local/lib/python3.6/dist-packages/sklearn/model_selection/_validation.py:515: DataConversionWarning: A column-vector y was passed when a 1d array was expected. Please change the shape of y to (n_samples,), for example using ravel().\n",
            "  estimator.fit(X_train, y_train, **fit_params)\n",
            "/usr/local/lib/python3.6/dist-packages/sklearn/model_selection/_validation.py:515: DataConversionWarning: A column-vector y was passed when a 1d array was expected. Please change the shape of y to (n_samples,), for example using ravel().\n",
            "  estimator.fit(X_train, y_train, **fit_params)\n",
            "/usr/local/lib/python3.6/dist-packages/sklearn/model_selection/_validation.py:515: DataConversionWarning: A column-vector y was passed when a 1d array was expected. Please change the shape of y to (n_samples,), for example using ravel().\n",
            "  estimator.fit(X_train, y_train, **fit_params)\n",
            "/usr/local/lib/python3.6/dist-packages/sklearn/model_selection/_validation.py:515: DataConversionWarning: A column-vector y was passed when a 1d array was expected. Please change the shape of y to (n_samples,), for example using ravel().\n",
            "  estimator.fit(X_train, y_train, **fit_params)\n",
            "/usr/local/lib/python3.6/dist-packages/sklearn/model_selection/_validation.py:515: DataConversionWarning: A column-vector y was passed when a 1d array was expected. Please change the shape of y to (n_samples,), for example using ravel().\n",
            "  estimator.fit(X_train, y_train, **fit_params)\n",
            "/usr/local/lib/python3.6/dist-packages/sklearn/model_selection/_validation.py:515: DataConversionWarning: A column-vector y was passed when a 1d array was expected. Please change the shape of y to (n_samples,), for example using ravel().\n",
            "  estimator.fit(X_train, y_train, **fit_params)\n",
            "/usr/local/lib/python3.6/dist-packages/sklearn/model_selection/_validation.py:515: DataConversionWarning: A column-vector y was passed when a 1d array was expected. Please change the shape of y to (n_samples,), for example using ravel().\n",
            "  estimator.fit(X_train, y_train, **fit_params)\n",
            "/usr/local/lib/python3.6/dist-packages/sklearn/model_selection/_validation.py:515: DataConversionWarning: A column-vector y was passed when a 1d array was expected. Please change the shape of y to (n_samples,), for example using ravel().\n",
            "  estimator.fit(X_train, y_train, **fit_params)\n",
            "/usr/local/lib/python3.6/dist-packages/sklearn/model_selection/_validation.py:515: DataConversionWarning: A column-vector y was passed when a 1d array was expected. Please change the shape of y to (n_samples,), for example using ravel().\n",
            "  estimator.fit(X_train, y_train, **fit_params)\n",
            "/usr/local/lib/python3.6/dist-packages/sklearn/model_selection/_validation.py:515: DataConversionWarning: A column-vector y was passed when a 1d array was expected. Please change the shape of y to (n_samples,), for example using ravel().\n",
            "  estimator.fit(X_train, y_train, **fit_params)\n",
            "/usr/local/lib/python3.6/dist-packages/sklearn/model_selection/_validation.py:515: DataConversionWarning: A column-vector y was passed when a 1d array was expected. Please change the shape of y to (n_samples,), for example using ravel().\n",
            "  estimator.fit(X_train, y_train, **fit_params)\n",
            "/usr/local/lib/python3.6/dist-packages/sklearn/model_selection/_validation.py:515: DataConversionWarning: A column-vector y was passed when a 1d array was expected. Please change the shape of y to (n_samples,), for example using ravel().\n",
            "  estimator.fit(X_train, y_train, **fit_params)\n",
            "/usr/local/lib/python3.6/dist-packages/sklearn/model_selection/_validation.py:515: DataConversionWarning: A column-vector y was passed when a 1d array was expected. Please change the shape of y to (n_samples,), for example using ravel().\n",
            "  estimator.fit(X_train, y_train, **fit_params)\n",
            "/usr/local/lib/python3.6/dist-packages/sklearn/model_selection/_validation.py:515: DataConversionWarning: A column-vector y was passed when a 1d array was expected. Please change the shape of y to (n_samples,), for example using ravel().\n",
            "  estimator.fit(X_train, y_train, **fit_params)\n",
            "/usr/local/lib/python3.6/dist-packages/sklearn/model_selection/_validation.py:515: DataConversionWarning: A column-vector y was passed when a 1d array was expected. Please change the shape of y to (n_samples,), for example using ravel().\n",
            "  estimator.fit(X_train, y_train, **fit_params)\n",
            "/usr/local/lib/python3.6/dist-packages/sklearn/model_selection/_validation.py:515: DataConversionWarning: A column-vector y was passed when a 1d array was expected. Please change the shape of y to (n_samples,), for example using ravel().\n",
            "  estimator.fit(X_train, y_train, **fit_params)\n",
            "/usr/local/lib/python3.6/dist-packages/sklearn/model_selection/_validation.py:515: DataConversionWarning: A column-vector y was passed when a 1d array was expected. Please change the shape of y to (n_samples,), for example using ravel().\n",
            "  estimator.fit(X_train, y_train, **fit_params)\n",
            "/usr/local/lib/python3.6/dist-packages/sklearn/model_selection/_validation.py:515: DataConversionWarning: A column-vector y was passed when a 1d array was expected. Please change the shape of y to (n_samples,), for example using ravel().\n",
            "  estimator.fit(X_train, y_train, **fit_params)\n",
            "/usr/local/lib/python3.6/dist-packages/sklearn/model_selection/_validation.py:515: DataConversionWarning: A column-vector y was passed when a 1d array was expected. Please change the shape of y to (n_samples,), for example using ravel().\n",
            "  estimator.fit(X_train, y_train, **fit_params)\n",
            "/usr/local/lib/python3.6/dist-packages/sklearn/model_selection/_validation.py:515: DataConversionWarning: A column-vector y was passed when a 1d array was expected. Please change the shape of y to (n_samples,), for example using ravel().\n",
            "  estimator.fit(X_train, y_train, **fit_params)\n",
            "/usr/local/lib/python3.6/dist-packages/sklearn/model_selection/_validation.py:515: DataConversionWarning: A column-vector y was passed when a 1d array was expected. Please change the shape of y to (n_samples,), for example using ravel().\n",
            "  estimator.fit(X_train, y_train, **fit_params)\n",
            "/usr/local/lib/python3.6/dist-packages/sklearn/model_selection/_validation.py:515: DataConversionWarning: A column-vector y was passed when a 1d array was expected. Please change the shape of y to (n_samples,), for example using ravel().\n",
            "  estimator.fit(X_train, y_train, **fit_params)\n",
            "/usr/local/lib/python3.6/dist-packages/sklearn/model_selection/_validation.py:515: DataConversionWarning: A column-vector y was passed when a 1d array was expected. Please change the shape of y to (n_samples,), for example using ravel().\n",
            "  estimator.fit(X_train, y_train, **fit_params)\n",
            "/usr/local/lib/python3.6/dist-packages/sklearn/model_selection/_validation.py:515: DataConversionWarning: A column-vector y was passed when a 1d array was expected. Please change the shape of y to (n_samples,), for example using ravel().\n",
            "  estimator.fit(X_train, y_train, **fit_params)\n",
            "/usr/local/lib/python3.6/dist-packages/sklearn/model_selection/_validation.py:515: DataConversionWarning: A column-vector y was passed when a 1d array was expected. Please change the shape of y to (n_samples,), for example using ravel().\n",
            "  estimator.fit(X_train, y_train, **fit_params)\n",
            "/usr/local/lib/python3.6/dist-packages/sklearn/model_selection/_validation.py:515: DataConversionWarning: A column-vector y was passed when a 1d array was expected. Please change the shape of y to (n_samples,), for example using ravel().\n",
            "  estimator.fit(X_train, y_train, **fit_params)\n",
            "/usr/local/lib/python3.6/dist-packages/sklearn/model_selection/_validation.py:515: DataConversionWarning: A column-vector y was passed when a 1d array was expected. Please change the shape of y to (n_samples,), for example using ravel().\n",
            "  estimator.fit(X_train, y_train, **fit_params)\n",
            "/usr/local/lib/python3.6/dist-packages/sklearn/model_selection/_validation.py:515: DataConversionWarning: A column-vector y was passed when a 1d array was expected. Please change the shape of y to (n_samples,), for example using ravel().\n",
            "  estimator.fit(X_train, y_train, **fit_params)\n",
            "/usr/local/lib/python3.6/dist-packages/sklearn/model_selection/_validation.py:515: DataConversionWarning: A column-vector y was passed when a 1d array was expected. Please change the shape of y to (n_samples,), for example using ravel().\n",
            "  estimator.fit(X_train, y_train, **fit_params)\n",
            "/usr/local/lib/python3.6/dist-packages/sklearn/model_selection/_validation.py:515: DataConversionWarning: A column-vector y was passed when a 1d array was expected. Please change the shape of y to (n_samples,), for example using ravel().\n",
            "  estimator.fit(X_train, y_train, **fit_params)\n",
            "/usr/local/lib/python3.6/dist-packages/sklearn/model_selection/_validation.py:515: DataConversionWarning: A column-vector y was passed when a 1d array was expected. Please change the shape of y to (n_samples,), for example using ravel().\n",
            "  estimator.fit(X_train, y_train, **fit_params)\n",
            "/usr/local/lib/python3.6/dist-packages/sklearn/model_selection/_validation.py:515: DataConversionWarning: A column-vector y was passed when a 1d array was expected. Please change the shape of y to (n_samples,), for example using ravel().\n",
            "  estimator.fit(X_train, y_train, **fit_params)\n",
            "/usr/local/lib/python3.6/dist-packages/sklearn/model_selection/_validation.py:515: DataConversionWarning: A column-vector y was passed when a 1d array was expected. Please change the shape of y to (n_samples,), for example using ravel().\n",
            "  estimator.fit(X_train, y_train, **fit_params)\n",
            "/usr/local/lib/python3.6/dist-packages/sklearn/model_selection/_validation.py:515: DataConversionWarning: A column-vector y was passed when a 1d array was expected. Please change the shape of y to (n_samples,), for example using ravel().\n",
            "  estimator.fit(X_train, y_train, **fit_params)\n",
            "/usr/local/lib/python3.6/dist-packages/sklearn/model_selection/_validation.py:515: DataConversionWarning: A column-vector y was passed when a 1d array was expected. Please change the shape of y to (n_samples,), for example using ravel().\n",
            "  estimator.fit(X_train, y_train, **fit_params)\n",
            "/usr/local/lib/python3.6/dist-packages/sklearn/model_selection/_validation.py:515: DataConversionWarning: A column-vector y was passed when a 1d array was expected. Please change the shape of y to (n_samples,), for example using ravel().\n",
            "  estimator.fit(X_train, y_train, **fit_params)\n",
            "/usr/local/lib/python3.6/dist-packages/sklearn/model_selection/_validation.py:515: DataConversionWarning: A column-vector y was passed when a 1d array was expected. Please change the shape of y to (n_samples,), for example using ravel().\n",
            "  estimator.fit(X_train, y_train, **fit_params)\n",
            "/usr/local/lib/python3.6/dist-packages/sklearn/model_selection/_validation.py:515: DataConversionWarning: A column-vector y was passed when a 1d array was expected. Please change the shape of y to (n_samples,), for example using ravel().\n",
            "  estimator.fit(X_train, y_train, **fit_params)\n",
            "/usr/local/lib/python3.6/dist-packages/sklearn/model_selection/_validation.py:515: DataConversionWarning: A column-vector y was passed when a 1d array was expected. Please change the shape of y to (n_samples,), for example using ravel().\n",
            "  estimator.fit(X_train, y_train, **fit_params)\n",
            "/usr/local/lib/python3.6/dist-packages/sklearn/model_selection/_validation.py:515: DataConversionWarning: A column-vector y was passed when a 1d array was expected. Please change the shape of y to (n_samples,), for example using ravel().\n",
            "  estimator.fit(X_train, y_train, **fit_params)\n",
            "/usr/local/lib/python3.6/dist-packages/sklearn/model_selection/_validation.py:515: DataConversionWarning: A column-vector y was passed when a 1d array was expected. Please change the shape of y to (n_samples,), for example using ravel().\n",
            "  estimator.fit(X_train, y_train, **fit_params)\n",
            "/usr/local/lib/python3.6/dist-packages/sklearn/model_selection/_validation.py:515: DataConversionWarning: A column-vector y was passed when a 1d array was expected. Please change the shape of y to (n_samples,), for example using ravel().\n",
            "  estimator.fit(X_train, y_train, **fit_params)\n",
            "/usr/local/lib/python3.6/dist-packages/sklearn/model_selection/_validation.py:515: DataConversionWarning: A column-vector y was passed when a 1d array was expected. Please change the shape of y to (n_samples,), for example using ravel().\n",
            "  estimator.fit(X_train, y_train, **fit_params)\n",
            "/usr/local/lib/python3.6/dist-packages/sklearn/model_selection/_validation.py:515: DataConversionWarning: A column-vector y was passed when a 1d array was expected. Please change the shape of y to (n_samples,), for example using ravel().\n",
            "  estimator.fit(X_train, y_train, **fit_params)\n",
            "/usr/local/lib/python3.6/dist-packages/sklearn/model_selection/_validation.py:515: DataConversionWarning: A column-vector y was passed when a 1d array was expected. Please change the shape of y to (n_samples,), for example using ravel().\n",
            "  estimator.fit(X_train, y_train, **fit_params)\n",
            "/usr/local/lib/python3.6/dist-packages/sklearn/model_selection/_validation.py:515: DataConversionWarning: A column-vector y was passed when a 1d array was expected. Please change the shape of y to (n_samples,), for example using ravel().\n",
            "  estimator.fit(X_train, y_train, **fit_params)\n",
            "/usr/local/lib/python3.6/dist-packages/sklearn/model_selection/_validation.py:515: DataConversionWarning: A column-vector y was passed when a 1d array was expected. Please change the shape of y to (n_samples,), for example using ravel().\n",
            "  estimator.fit(X_train, y_train, **fit_params)\n",
            "/usr/local/lib/python3.6/dist-packages/sklearn/model_selection/_validation.py:515: DataConversionWarning: A column-vector y was passed when a 1d array was expected. Please change the shape of y to (n_samples,), for example using ravel().\n",
            "  estimator.fit(X_train, y_train, **fit_params)\n",
            "/usr/local/lib/python3.6/dist-packages/sklearn/model_selection/_validation.py:515: DataConversionWarning: A column-vector y was passed when a 1d array was expected. Please change the shape of y to (n_samples,), for example using ravel().\n",
            "  estimator.fit(X_train, y_train, **fit_params)\n",
            "/usr/local/lib/python3.6/dist-packages/sklearn/model_selection/_validation.py:515: DataConversionWarning: A column-vector y was passed when a 1d array was expected. Please change the shape of y to (n_samples,), for example using ravel().\n",
            "  estimator.fit(X_train, y_train, **fit_params)\n",
            "/usr/local/lib/python3.6/dist-packages/sklearn/model_selection/_validation.py:515: DataConversionWarning: A column-vector y was passed when a 1d array was expected. Please change the shape of y to (n_samples,), for example using ravel().\n",
            "  estimator.fit(X_train, y_train, **fit_params)\n",
            "/usr/local/lib/python3.6/dist-packages/sklearn/model_selection/_validation.py:515: DataConversionWarning: A column-vector y was passed when a 1d array was expected. Please change the shape of y to (n_samples,), for example using ravel().\n",
            "  estimator.fit(X_train, y_train, **fit_params)\n",
            "/usr/local/lib/python3.6/dist-packages/sklearn/model_selection/_validation.py:515: DataConversionWarning: A column-vector y was passed when a 1d array was expected. Please change the shape of y to (n_samples,), for example using ravel().\n",
            "  estimator.fit(X_train, y_train, **fit_params)\n",
            "/usr/local/lib/python3.6/dist-packages/sklearn/model_selection/_validation.py:515: DataConversionWarning: A column-vector y was passed when a 1d array was expected. Please change the shape of y to (n_samples,), for example using ravel().\n",
            "  estimator.fit(X_train, y_train, **fit_params)\n",
            "/usr/local/lib/python3.6/dist-packages/sklearn/model_selection/_validation.py:515: DataConversionWarning: A column-vector y was passed when a 1d array was expected. Please change the shape of y to (n_samples,), for example using ravel().\n",
            "  estimator.fit(X_train, y_train, **fit_params)\n",
            "/usr/local/lib/python3.6/dist-packages/sklearn/model_selection/_validation.py:515: DataConversionWarning: A column-vector y was passed when a 1d array was expected. Please change the shape of y to (n_samples,), for example using ravel().\n",
            "  estimator.fit(X_train, y_train, **fit_params)\n",
            "/usr/local/lib/python3.6/dist-packages/sklearn/model_selection/_validation.py:515: DataConversionWarning: A column-vector y was passed when a 1d array was expected. Please change the shape of y to (n_samples,), for example using ravel().\n",
            "  estimator.fit(X_train, y_train, **fit_params)\n",
            "/usr/local/lib/python3.6/dist-packages/sklearn/model_selection/_validation.py:515: DataConversionWarning: A column-vector y was passed when a 1d array was expected. Please change the shape of y to (n_samples,), for example using ravel().\n",
            "  estimator.fit(X_train, y_train, **fit_params)\n",
            "/usr/local/lib/python3.6/dist-packages/sklearn/model_selection/_validation.py:515: DataConversionWarning: A column-vector y was passed when a 1d array was expected. Please change the shape of y to (n_samples,), for example using ravel().\n",
            "  estimator.fit(X_train, y_train, **fit_params)\n",
            "/usr/local/lib/python3.6/dist-packages/sklearn/model_selection/_validation.py:515: DataConversionWarning: A column-vector y was passed when a 1d array was expected. Please change the shape of y to (n_samples,), for example using ravel().\n",
            "  estimator.fit(X_train, y_train, **fit_params)\n",
            "/usr/local/lib/python3.6/dist-packages/sklearn/model_selection/_validation.py:515: DataConversionWarning: A column-vector y was passed when a 1d array was expected. Please change the shape of y to (n_samples,), for example using ravel().\n",
            "  estimator.fit(X_train, y_train, **fit_params)\n",
            "/usr/local/lib/python3.6/dist-packages/sklearn/model_selection/_validation.py:515: DataConversionWarning: A column-vector y was passed when a 1d array was expected. Please change the shape of y to (n_samples,), for example using ravel().\n",
            "  estimator.fit(X_train, y_train, **fit_params)\n",
            "/usr/local/lib/python3.6/dist-packages/sklearn/model_selection/_validation.py:515: DataConversionWarning: A column-vector y was passed when a 1d array was expected. Please change the shape of y to (n_samples,), for example using ravel().\n",
            "  estimator.fit(X_train, y_train, **fit_params)\n",
            "/usr/local/lib/python3.6/dist-packages/sklearn/model_selection/_validation.py:515: DataConversionWarning: A column-vector y was passed when a 1d array was expected. Please change the shape of y to (n_samples,), for example using ravel().\n",
            "  estimator.fit(X_train, y_train, **fit_params)\n",
            "/usr/local/lib/python3.6/dist-packages/sklearn/model_selection/_validation.py:515: DataConversionWarning: A column-vector y was passed when a 1d array was expected. Please change the shape of y to (n_samples,), for example using ravel().\n",
            "  estimator.fit(X_train, y_train, **fit_params)\n",
            "/usr/local/lib/python3.6/dist-packages/sklearn/model_selection/_validation.py:515: DataConversionWarning: A column-vector y was passed when a 1d array was expected. Please change the shape of y to (n_samples,), for example using ravel().\n",
            "  estimator.fit(X_train, y_train, **fit_params)\n",
            "/usr/local/lib/python3.6/dist-packages/sklearn/model_selection/_validation.py:515: DataConversionWarning: A column-vector y was passed when a 1d array was expected. Please change the shape of y to (n_samples,), for example using ravel().\n",
            "  estimator.fit(X_train, y_train, **fit_params)\n",
            "/usr/local/lib/python3.6/dist-packages/sklearn/model_selection/_validation.py:515: DataConversionWarning: A column-vector y was passed when a 1d array was expected. Please change the shape of y to (n_samples,), for example using ravel().\n",
            "  estimator.fit(X_train, y_train, **fit_params)\n",
            "/usr/local/lib/python3.6/dist-packages/sklearn/model_selection/_validation.py:515: DataConversionWarning: A column-vector y was passed when a 1d array was expected. Please change the shape of y to (n_samples,), for example using ravel().\n",
            "  estimator.fit(X_train, y_train, **fit_params)\n",
            "/usr/local/lib/python3.6/dist-packages/sklearn/model_selection/_validation.py:515: DataConversionWarning: A column-vector y was passed when a 1d array was expected. Please change the shape of y to (n_samples,), for example using ravel().\n",
            "  estimator.fit(X_train, y_train, **fit_params)\n",
            "/usr/local/lib/python3.6/dist-packages/sklearn/model_selection/_validation.py:515: DataConversionWarning: A column-vector y was passed when a 1d array was expected. Please change the shape of y to (n_samples,), for example using ravel().\n",
            "  estimator.fit(X_train, y_train, **fit_params)\n",
            "/usr/local/lib/python3.6/dist-packages/sklearn/model_selection/_validation.py:515: DataConversionWarning: A column-vector y was passed when a 1d array was expected. Please change the shape of y to (n_samples,), for example using ravel().\n",
            "  estimator.fit(X_train, y_train, **fit_params)\n",
            "/usr/local/lib/python3.6/dist-packages/sklearn/model_selection/_validation.py:515: DataConversionWarning: A column-vector y was passed when a 1d array was expected. Please change the shape of y to (n_samples,), for example using ravel().\n",
            "  estimator.fit(X_train, y_train, **fit_params)\n",
            "/usr/local/lib/python3.6/dist-packages/sklearn/model_selection/_validation.py:515: DataConversionWarning: A column-vector y was passed when a 1d array was expected. Please change the shape of y to (n_samples,), for example using ravel().\n",
            "  estimator.fit(X_train, y_train, **fit_params)\n",
            "/usr/local/lib/python3.6/dist-packages/sklearn/model_selection/_validation.py:515: DataConversionWarning: A column-vector y was passed when a 1d array was expected. Please change the shape of y to (n_samples,), for example using ravel().\n",
            "  estimator.fit(X_train, y_train, **fit_params)\n",
            "/usr/local/lib/python3.6/dist-packages/sklearn/model_selection/_validation.py:515: DataConversionWarning: A column-vector y was passed when a 1d array was expected. Please change the shape of y to (n_samples,), for example using ravel().\n",
            "  estimator.fit(X_train, y_train, **fit_params)\n",
            "/usr/local/lib/python3.6/dist-packages/sklearn/model_selection/_validation.py:515: DataConversionWarning: A column-vector y was passed when a 1d array was expected. Please change the shape of y to (n_samples,), for example using ravel().\n",
            "  estimator.fit(X_train, y_train, **fit_params)\n",
            "/usr/local/lib/python3.6/dist-packages/sklearn/model_selection/_validation.py:515: DataConversionWarning: A column-vector y was passed when a 1d array was expected. Please change the shape of y to (n_samples,), for example using ravel().\n",
            "  estimator.fit(X_train, y_train, **fit_params)\n",
            "/usr/local/lib/python3.6/dist-packages/sklearn/model_selection/_validation.py:515: DataConversionWarning: A column-vector y was passed when a 1d array was expected. Please change the shape of y to (n_samples,), for example using ravel().\n",
            "  estimator.fit(X_train, y_train, **fit_params)\n",
            "/usr/local/lib/python3.6/dist-packages/sklearn/model_selection/_validation.py:515: DataConversionWarning: A column-vector y was passed when a 1d array was expected. Please change the shape of y to (n_samples,), for example using ravel().\n",
            "  estimator.fit(X_train, y_train, **fit_params)\n",
            "/usr/local/lib/python3.6/dist-packages/sklearn/model_selection/_validation.py:515: DataConversionWarning: A column-vector y was passed when a 1d array was expected. Please change the shape of y to (n_samples,), for example using ravel().\n",
            "  estimator.fit(X_train, y_train, **fit_params)\n",
            "/usr/local/lib/python3.6/dist-packages/sklearn/model_selection/_validation.py:515: DataConversionWarning: A column-vector y was passed when a 1d array was expected. Please change the shape of y to (n_samples,), for example using ravel().\n",
            "  estimator.fit(X_train, y_train, **fit_params)\n",
            "/usr/local/lib/python3.6/dist-packages/sklearn/model_selection/_validation.py:515: DataConversionWarning: A column-vector y was passed when a 1d array was expected. Please change the shape of y to (n_samples,), for example using ravel().\n",
            "  estimator.fit(X_train, y_train, **fit_params)\n",
            "/usr/local/lib/python3.6/dist-packages/sklearn/model_selection/_validation.py:515: DataConversionWarning: A column-vector y was passed when a 1d array was expected. Please change the shape of y to (n_samples,), for example using ravel().\n",
            "  estimator.fit(X_train, y_train, **fit_params)\n",
            "/usr/local/lib/python3.6/dist-packages/sklearn/model_selection/_validation.py:515: DataConversionWarning: A column-vector y was passed when a 1d array was expected. Please change the shape of y to (n_samples,), for example using ravel().\n",
            "  estimator.fit(X_train, y_train, **fit_params)\n",
            "/usr/local/lib/python3.6/dist-packages/sklearn/model_selection/_validation.py:515: DataConversionWarning: A column-vector y was passed when a 1d array was expected. Please change the shape of y to (n_samples,), for example using ravel().\n",
            "  estimator.fit(X_train, y_train, **fit_params)\n",
            "/usr/local/lib/python3.6/dist-packages/sklearn/model_selection/_validation.py:515: DataConversionWarning: A column-vector y was passed when a 1d array was expected. Please change the shape of y to (n_samples,), for example using ravel().\n",
            "  estimator.fit(X_train, y_train, **fit_params)\n",
            "/usr/local/lib/python3.6/dist-packages/sklearn/model_selection/_validation.py:515: DataConversionWarning: A column-vector y was passed when a 1d array was expected. Please change the shape of y to (n_samples,), for example using ravel().\n",
            "  estimator.fit(X_train, y_train, **fit_params)\n",
            "/usr/local/lib/python3.6/dist-packages/sklearn/model_selection/_validation.py:515: DataConversionWarning: A column-vector y was passed when a 1d array was expected. Please change the shape of y to (n_samples,), for example using ravel().\n",
            "  estimator.fit(X_train, y_train, **fit_params)\n",
            "/usr/local/lib/python3.6/dist-packages/sklearn/model_selection/_validation.py:515: DataConversionWarning: A column-vector y was passed when a 1d array was expected. Please change the shape of y to (n_samples,), for example using ravel().\n",
            "  estimator.fit(X_train, y_train, **fit_params)\n",
            "/usr/local/lib/python3.6/dist-packages/sklearn/model_selection/_validation.py:515: DataConversionWarning: A column-vector y was passed when a 1d array was expected. Please change the shape of y to (n_samples,), for example using ravel().\n",
            "  estimator.fit(X_train, y_train, **fit_params)\n",
            "/usr/local/lib/python3.6/dist-packages/sklearn/model_selection/_validation.py:515: DataConversionWarning: A column-vector y was passed when a 1d array was expected. Please change the shape of y to (n_samples,), for example using ravel().\n",
            "  estimator.fit(X_train, y_train, **fit_params)\n",
            "/usr/local/lib/python3.6/dist-packages/sklearn/model_selection/_validation.py:515: DataConversionWarning: A column-vector y was passed when a 1d array was expected. Please change the shape of y to (n_samples,), for example using ravel().\n",
            "  estimator.fit(X_train, y_train, **fit_params)\n",
            "/usr/local/lib/python3.6/dist-packages/sklearn/model_selection/_validation.py:515: DataConversionWarning: A column-vector y was passed when a 1d array was expected. Please change the shape of y to (n_samples,), for example using ravel().\n",
            "  estimator.fit(X_train, y_train, **fit_params)\n",
            "/usr/local/lib/python3.6/dist-packages/sklearn/model_selection/_validation.py:515: DataConversionWarning: A column-vector y was passed when a 1d array was expected. Please change the shape of y to (n_samples,), for example using ravel().\n",
            "  estimator.fit(X_train, y_train, **fit_params)\n",
            "/usr/local/lib/python3.6/dist-packages/sklearn/model_selection/_validation.py:515: DataConversionWarning: A column-vector y was passed when a 1d array was expected. Please change the shape of y to (n_samples,), for example using ravel().\n",
            "  estimator.fit(X_train, y_train, **fit_params)\n",
            "/usr/local/lib/python3.6/dist-packages/sklearn/model_selection/_validation.py:515: DataConversionWarning: A column-vector y was passed when a 1d array was expected. Please change the shape of y to (n_samples,), for example using ravel().\n",
            "  estimator.fit(X_train, y_train, **fit_params)\n",
            "/usr/local/lib/python3.6/dist-packages/sklearn/model_selection/_validation.py:515: DataConversionWarning: A column-vector y was passed when a 1d array was expected. Please change the shape of y to (n_samples,), for example using ravel().\n",
            "  estimator.fit(X_train, y_train, **fit_params)\n",
            "/usr/local/lib/python3.6/dist-packages/sklearn/model_selection/_validation.py:515: DataConversionWarning: A column-vector y was passed when a 1d array was expected. Please change the shape of y to (n_samples,), for example using ravel().\n",
            "  estimator.fit(X_train, y_train, **fit_params)\n",
            "/usr/local/lib/python3.6/dist-packages/sklearn/model_selection/_validation.py:515: DataConversionWarning: A column-vector y was passed when a 1d array was expected. Please change the shape of y to (n_samples,), for example using ravel().\n",
            "  estimator.fit(X_train, y_train, **fit_params)\n",
            "/usr/local/lib/python3.6/dist-packages/sklearn/model_selection/_validation.py:515: DataConversionWarning: A column-vector y was passed when a 1d array was expected. Please change the shape of y to (n_samples,), for example using ravel().\n",
            "  estimator.fit(X_train, y_train, **fit_params)\n",
            "/usr/local/lib/python3.6/dist-packages/sklearn/model_selection/_validation.py:515: DataConversionWarning: A column-vector y was passed when a 1d array was expected. Please change the shape of y to (n_samples,), for example using ravel().\n",
            "  estimator.fit(X_train, y_train, **fit_params)\n",
            "/usr/local/lib/python3.6/dist-packages/sklearn/model_selection/_validation.py:515: DataConversionWarning: A column-vector y was passed when a 1d array was expected. Please change the shape of y to (n_samples,), for example using ravel().\n",
            "  estimator.fit(X_train, y_train, **fit_params)\n",
            "/usr/local/lib/python3.6/dist-packages/sklearn/model_selection/_validation.py:515: DataConversionWarning: A column-vector y was passed when a 1d array was expected. Please change the shape of y to (n_samples,), for example using ravel().\n",
            "  estimator.fit(X_train, y_train, **fit_params)\n",
            "/usr/local/lib/python3.6/dist-packages/sklearn/model_selection/_validation.py:515: DataConversionWarning: A column-vector y was passed when a 1d array was expected. Please change the shape of y to (n_samples,), for example using ravel().\n",
            "  estimator.fit(X_train, y_train, **fit_params)\n",
            "/usr/local/lib/python3.6/dist-packages/sklearn/model_selection/_validation.py:515: DataConversionWarning: A column-vector y was passed when a 1d array was expected. Please change the shape of y to (n_samples,), for example using ravel().\n",
            "  estimator.fit(X_train, y_train, **fit_params)\n",
            "/usr/local/lib/python3.6/dist-packages/sklearn/model_selection/_validation.py:515: DataConversionWarning: A column-vector y was passed when a 1d array was expected. Please change the shape of y to (n_samples,), for example using ravel().\n",
            "  estimator.fit(X_train, y_train, **fit_params)\n",
            "/usr/local/lib/python3.6/dist-packages/sklearn/model_selection/_validation.py:515: DataConversionWarning: A column-vector y was passed when a 1d array was expected. Please change the shape of y to (n_samples,), for example using ravel().\n",
            "  estimator.fit(X_train, y_train, **fit_params)\n",
            "/usr/local/lib/python3.6/dist-packages/sklearn/model_selection/_validation.py:515: DataConversionWarning: A column-vector y was passed when a 1d array was expected. Please change the shape of y to (n_samples,), for example using ravel().\n",
            "  estimator.fit(X_train, y_train, **fit_params)\n",
            "/usr/local/lib/python3.6/dist-packages/sklearn/model_selection/_validation.py:515: DataConversionWarning: A column-vector y was passed when a 1d array was expected. Please change the shape of y to (n_samples,), for example using ravel().\n",
            "  estimator.fit(X_train, y_train, **fit_params)\n",
            "/usr/local/lib/python3.6/dist-packages/sklearn/model_selection/_validation.py:515: DataConversionWarning: A column-vector y was passed when a 1d array was expected. Please change the shape of y to (n_samples,), for example using ravel().\n",
            "  estimator.fit(X_train, y_train, **fit_params)\n",
            "/usr/local/lib/python3.6/dist-packages/sklearn/model_selection/_validation.py:515: DataConversionWarning: A column-vector y was passed when a 1d array was expected. Please change the shape of y to (n_samples,), for example using ravel().\n",
            "  estimator.fit(X_train, y_train, **fit_params)\n",
            "/usr/local/lib/python3.6/dist-packages/sklearn/model_selection/_validation.py:515: DataConversionWarning: A column-vector y was passed when a 1d array was expected. Please change the shape of y to (n_samples,), for example using ravel().\n",
            "  estimator.fit(X_train, y_train, **fit_params)\n",
            "/usr/local/lib/python3.6/dist-packages/sklearn/model_selection/_validation.py:515: DataConversionWarning: A column-vector y was passed when a 1d array was expected. Please change the shape of y to (n_samples,), for example using ravel().\n",
            "  estimator.fit(X_train, y_train, **fit_params)\n",
            "/usr/local/lib/python3.6/dist-packages/sklearn/model_selection/_validation.py:515: DataConversionWarning: A column-vector y was passed when a 1d array was expected. Please change the shape of y to (n_samples,), for example using ravel().\n",
            "  estimator.fit(X_train, y_train, **fit_params)\n",
            "/usr/local/lib/python3.6/dist-packages/sklearn/model_selection/_validation.py:515: DataConversionWarning: A column-vector y was passed when a 1d array was expected. Please change the shape of y to (n_samples,), for example using ravel().\n",
            "  estimator.fit(X_train, y_train, **fit_params)\n",
            "/usr/local/lib/python3.6/dist-packages/sklearn/model_selection/_validation.py:515: DataConversionWarning: A column-vector y was passed when a 1d array was expected. Please change the shape of y to (n_samples,), for example using ravel().\n",
            "  estimator.fit(X_train, y_train, **fit_params)\n",
            "/usr/local/lib/python3.6/dist-packages/sklearn/model_selection/_validation.py:515: DataConversionWarning: A column-vector y was passed when a 1d array was expected. Please change the shape of y to (n_samples,), for example using ravel().\n",
            "  estimator.fit(X_train, y_train, **fit_params)\n",
            "/usr/local/lib/python3.6/dist-packages/sklearn/model_selection/_validation.py:515: DataConversionWarning: A column-vector y was passed when a 1d array was expected. Please change the shape of y to (n_samples,), for example using ravel().\n",
            "  estimator.fit(X_train, y_train, **fit_params)\n",
            "/usr/local/lib/python3.6/dist-packages/sklearn/model_selection/_validation.py:515: DataConversionWarning: A column-vector y was passed when a 1d array was expected. Please change the shape of y to (n_samples,), for example using ravel().\n",
            "  estimator.fit(X_train, y_train, **fit_params)\n",
            "/usr/local/lib/python3.6/dist-packages/sklearn/model_selection/_validation.py:515: DataConversionWarning: A column-vector y was passed when a 1d array was expected. Please change the shape of y to (n_samples,), for example using ravel().\n",
            "  estimator.fit(X_train, y_train, **fit_params)\n",
            "/usr/local/lib/python3.6/dist-packages/sklearn/model_selection/_validation.py:515: DataConversionWarning: A column-vector y was passed when a 1d array was expected. Please change the shape of y to (n_samples,), for example using ravel().\n",
            "  estimator.fit(X_train, y_train, **fit_params)\n",
            "/usr/local/lib/python3.6/dist-packages/sklearn/model_selection/_validation.py:515: DataConversionWarning: A column-vector y was passed when a 1d array was expected. Please change the shape of y to (n_samples,), for example using ravel().\n",
            "  estimator.fit(X_train, y_train, **fit_params)\n",
            "/usr/local/lib/python3.6/dist-packages/sklearn/model_selection/_validation.py:515: DataConversionWarning: A column-vector y was passed when a 1d array was expected. Please change the shape of y to (n_samples,), for example using ravel().\n",
            "  estimator.fit(X_train, y_train, **fit_params)\n",
            "/usr/local/lib/python3.6/dist-packages/sklearn/model_selection/_validation.py:515: DataConversionWarning: A column-vector y was passed when a 1d array was expected. Please change the shape of y to (n_samples,), for example using ravel().\n",
            "  estimator.fit(X_train, y_train, **fit_params)\n",
            "/usr/local/lib/python3.6/dist-packages/sklearn/model_selection/_validation.py:515: DataConversionWarning: A column-vector y was passed when a 1d array was expected. Please change the shape of y to (n_samples,), for example using ravel().\n",
            "  estimator.fit(X_train, y_train, **fit_params)\n",
            "/usr/local/lib/python3.6/dist-packages/sklearn/model_selection/_validation.py:515: DataConversionWarning: A column-vector y was passed when a 1d array was expected. Please change the shape of y to (n_samples,), for example using ravel().\n",
            "  estimator.fit(X_train, y_train, **fit_params)\n",
            "/usr/local/lib/python3.6/dist-packages/sklearn/model_selection/_validation.py:515: DataConversionWarning: A column-vector y was passed when a 1d array was expected. Please change the shape of y to (n_samples,), for example using ravel().\n",
            "  estimator.fit(X_train, y_train, **fit_params)\n",
            "/usr/local/lib/python3.6/dist-packages/sklearn/model_selection/_validation.py:515: DataConversionWarning: A column-vector y was passed when a 1d array was expected. Please change the shape of y to (n_samples,), for example using ravel().\n",
            "  estimator.fit(X_train, y_train, **fit_params)\n",
            "/usr/local/lib/python3.6/dist-packages/sklearn/model_selection/_validation.py:515: DataConversionWarning: A column-vector y was passed when a 1d array was expected. Please change the shape of y to (n_samples,), for example using ravel().\n",
            "  estimator.fit(X_train, y_train, **fit_params)\n",
            "/usr/local/lib/python3.6/dist-packages/sklearn/model_selection/_validation.py:515: DataConversionWarning: A column-vector y was passed when a 1d array was expected. Please change the shape of y to (n_samples,), for example using ravel().\n",
            "  estimator.fit(X_train, y_train, **fit_params)\n",
            "/usr/local/lib/python3.6/dist-packages/sklearn/model_selection/_validation.py:515: DataConversionWarning: A column-vector y was passed when a 1d array was expected. Please change the shape of y to (n_samples,), for example using ravel().\n",
            "  estimator.fit(X_train, y_train, **fit_params)\n",
            "/usr/local/lib/python3.6/dist-packages/sklearn/model_selection/_validation.py:515: DataConversionWarning: A column-vector y was passed when a 1d array was expected. Please change the shape of y to (n_samples,), for example using ravel().\n",
            "  estimator.fit(X_train, y_train, **fit_params)\n",
            "/usr/local/lib/python3.6/dist-packages/sklearn/model_selection/_validation.py:515: DataConversionWarning: A column-vector y was passed when a 1d array was expected. Please change the shape of y to (n_samples,), for example using ravel().\n",
            "  estimator.fit(X_train, y_train, **fit_params)\n",
            "/usr/local/lib/python3.6/dist-packages/sklearn/model_selection/_validation.py:515: DataConversionWarning: A column-vector y was passed when a 1d array was expected. Please change the shape of y to (n_samples,), for example using ravel().\n",
            "  estimator.fit(X_train, y_train, **fit_params)\n",
            "/usr/local/lib/python3.6/dist-packages/sklearn/model_selection/_validation.py:515: DataConversionWarning: A column-vector y was passed when a 1d array was expected. Please change the shape of y to (n_samples,), for example using ravel().\n",
            "  estimator.fit(X_train, y_train, **fit_params)\n",
            "/usr/local/lib/python3.6/dist-packages/sklearn/model_selection/_validation.py:515: DataConversionWarning: A column-vector y was passed when a 1d array was expected. Please change the shape of y to (n_samples,), for example using ravel().\n",
            "  estimator.fit(X_train, y_train, **fit_params)\n",
            "/usr/local/lib/python3.6/dist-packages/sklearn/model_selection/_validation.py:515: DataConversionWarning: A column-vector y was passed when a 1d array was expected. Please change the shape of y to (n_samples,), for example using ravel().\n",
            "  estimator.fit(X_train, y_train, **fit_params)\n",
            "/usr/local/lib/python3.6/dist-packages/sklearn/model_selection/_search.py:739: DataConversionWarning: A column-vector y was passed when a 1d array was expected. Please change the shape of y to (n_samples,), for example using ravel().\n",
            "  self.best_estimator_.fit(X, y, **fit_params)\n"
          ],
          "name": "stderr"
        },
        {
          "output_type": "execute_result",
          "data": {
            "text/plain": [
              "GridSearchCV(cv=None, error_score=nan,\n",
              "             estimator=Ridge(alpha=1.0, copy_X=True, fit_intercept=True,\n",
              "                             max_iter=None, normalize=False, random_state=None,\n",
              "                             solver='auto', tol=0.001),\n",
              "             iid='deprecated', n_jobs=None,\n",
              "             param_grid={'alpha': [1e-05, 0.001, 0.1, 1, 5, 10, 100, 1000]},\n",
              "             pre_dispatch='2*n_jobs', refit=True, return_train_score=False,\n",
              "             scoring=None, verbose=0)"
            ]
          },
          "metadata": {
            "tags": []
          },
          "execution_count": 23
        }
      ]
    },
    {
      "cell_type": "code",
      "metadata": {
        "id": "2oqRpl_sVDl8",
        "colab": {
          "base_uri": "https://localhost:8080/",
          "height": 1000
        },
        "outputId": "db026a05-a579-4b5e-ee36-fbe3b4f1571b"
      },
      "source": [
        "#Resultados de la busqueda del RandomForest\n",
        "rfr_grid.cv_results_"
      ],
      "execution_count": null,
      "outputs": [
        {
          "output_type": "execute_result",
          "data": {
            "text/plain": [
              "{'mean_fit_time': array([1.02519512e-02, 7.02115536e-02, 3.82885695e-01, 8.69899845e-01,\n",
              "        2.47456441e+00, 6.15967040e+00, 9.92240906e-03, 7.21507072e-02,\n",
              "        4.17084265e-01, 9.35899544e-01, 2.63463550e+00, 6.58265810e+00,\n",
              "        1.03070736e-02, 7.62018204e-02, 4.44718027e-01, 9.90550137e-01,\n",
              "        2.82273426e+00, 7.02839785e+00, 1.17691994e-02, 8.96715641e-02,\n",
              "        5.15775299e-01, 1.18730702e+00, 3.38281512e+00, 8.43049536e+00,\n",
              "        1.35032654e-02, 1.08936596e-01, 6.39804029e-01, 1.45450187e+00,\n",
              "        4.12891397e+00, 1.03532587e+01, 1.39362812e-02, 1.12818098e-01,\n",
              "        6.68135166e-01, 1.51501842e+00, 4.28010955e+00, 1.07211953e+01]),\n",
              " 'mean_score_time': array([0.00258613, 0.00543203, 0.03300958, 0.03841515, 0.10634308,\n",
              "        0.27400684, 0.00259991, 0.00688334, 0.01872482, 0.03982716,\n",
              "        0.11060586, 0.28327265, 0.00262623, 0.00544453, 0.01930366,\n",
              "        0.04156351, 0.11560087, 0.30140886, 0.00275087, 0.0058208 ,\n",
              "        0.03414083, 0.04912162, 0.1309361 , 0.3393918 , 0.00266395,\n",
              "        0.00662751, 0.02658105, 0.05770044, 0.15994477, 0.4144444 ,\n",
              "        0.00270305, 0.00670085, 0.02819571, 0.06165314, 0.16828852,\n",
              "        0.42593598]),\n",
              " 'mean_test_score': array([0.83405077, 0.83396166, 0.83385068, 0.83412799, 0.83444901,\n",
              "        0.83419885, 0.85874691, 0.86045848, 0.86037993, 0.86020977,\n",
              "        0.86021196, 0.86017851, 0.86135233, 0.86213853, 0.86332739,\n",
              "        0.86350858, 0.86357411, 0.86352762, 0.84085749, 0.85408172,\n",
              "        0.85488412, 0.85476216, 0.85536393, 0.85531883, 0.81447001,\n",
              "        0.83691884, 0.83773916, 0.83803917, 0.83768579, 0.83843301,\n",
              "        0.81465731, 0.83278501, 0.8370806 , 0.83784666, 0.83709668,\n",
              "        0.83752366]),\n",
              " 'param_max_depth': masked_array(data=[2, 2, 2, 2, 2, 2, 3, 3, 3, 3, 3, 3, 4, 4, 4, 4, 4, 4,\n",
              "                    7, 7, 7, 7, 7, 7, 12, 12, 12, 12, 12, 12, 20, 20, 20,\n",
              "                    20, 20, 20],\n",
              "              mask=[False, False, False, False, False, False, False, False,\n",
              "                    False, False, False, False, False, False, False, False,\n",
              "                    False, False, False, False, False, False, False, False,\n",
              "                    False, False, False, False, False, False, False, False,\n",
              "                    False, False, False, False],\n",
              "        fill_value='?',\n",
              "             dtype=object),\n",
              " 'param_n_estimators': masked_array(data=[5, 50, 300, 700, 2000, 5000, 5, 50, 300, 700, 2000,\n",
              "                    5000, 5, 50, 300, 700, 2000, 5000, 5, 50, 300, 700,\n",
              "                    2000, 5000, 5, 50, 300, 700, 2000, 5000, 5, 50, 300,\n",
              "                    700, 2000, 5000],\n",
              "              mask=[False, False, False, False, False, False, False, False,\n",
              "                    False, False, False, False, False, False, False, False,\n",
              "                    False, False, False, False, False, False, False, False,\n",
              "                    False, False, False, False, False, False, False, False,\n",
              "                    False, False, False, False],\n",
              "        fill_value='?',\n",
              "             dtype=object),\n",
              " 'params': [{'max_depth': 2, 'n_estimators': 5},\n",
              "  {'max_depth': 2, 'n_estimators': 50},\n",
              "  {'max_depth': 2, 'n_estimators': 300},\n",
              "  {'max_depth': 2, 'n_estimators': 700},\n",
              "  {'max_depth': 2, 'n_estimators': 2000},\n",
              "  {'max_depth': 2, 'n_estimators': 5000},\n",
              "  {'max_depth': 3, 'n_estimators': 5},\n",
              "  {'max_depth': 3, 'n_estimators': 50},\n",
              "  {'max_depth': 3, 'n_estimators': 300},\n",
              "  {'max_depth': 3, 'n_estimators': 700},\n",
              "  {'max_depth': 3, 'n_estimators': 2000},\n",
              "  {'max_depth': 3, 'n_estimators': 5000},\n",
              "  {'max_depth': 4, 'n_estimators': 5},\n",
              "  {'max_depth': 4, 'n_estimators': 50},\n",
              "  {'max_depth': 4, 'n_estimators': 300},\n",
              "  {'max_depth': 4, 'n_estimators': 700},\n",
              "  {'max_depth': 4, 'n_estimators': 2000},\n",
              "  {'max_depth': 4, 'n_estimators': 5000},\n",
              "  {'max_depth': 7, 'n_estimators': 5},\n",
              "  {'max_depth': 7, 'n_estimators': 50},\n",
              "  {'max_depth': 7, 'n_estimators': 300},\n",
              "  {'max_depth': 7, 'n_estimators': 700},\n",
              "  {'max_depth': 7, 'n_estimators': 2000},\n",
              "  {'max_depth': 7, 'n_estimators': 5000},\n",
              "  {'max_depth': 12, 'n_estimators': 5},\n",
              "  {'max_depth': 12, 'n_estimators': 50},\n",
              "  {'max_depth': 12, 'n_estimators': 300},\n",
              "  {'max_depth': 12, 'n_estimators': 700},\n",
              "  {'max_depth': 12, 'n_estimators': 2000},\n",
              "  {'max_depth': 12, 'n_estimators': 5000},\n",
              "  {'max_depth': 20, 'n_estimators': 5},\n",
              "  {'max_depth': 20, 'n_estimators': 50},\n",
              "  {'max_depth': 20, 'n_estimators': 300},\n",
              "  {'max_depth': 20, 'n_estimators': 700},\n",
              "  {'max_depth': 20, 'n_estimators': 2000},\n",
              "  {'max_depth': 20, 'n_estimators': 5000}],\n",
              " 'rank_test_score': array([31, 32, 33, 30, 28, 29, 12,  7,  8, 10,  9, 11,  6,  5,  4,  3,  1,\n",
              "         2, 18, 17, 15, 16, 13, 14, 36, 27, 22, 20, 23, 19, 35, 34, 26, 21,\n",
              "        25, 24], dtype=int32),\n",
              " 'split0_test_score': array([0.75102286, 0.74611941, 0.74770605, 0.74800232, 0.74949266,\n",
              "        0.74851649, 0.77216713, 0.77513124, 0.7745667 , 0.77386421,\n",
              "        0.77380178, 0.77371828, 0.77012834, 0.77681522, 0.77704227,\n",
              "        0.77789795, 0.77815161, 0.77804804, 0.76553405, 0.77709172,\n",
              "        0.76931755, 0.76977281, 0.77125583, 0.77106446, 0.75533662,\n",
              "        0.7466545 , 0.75085895, 0.75272116, 0.75227415, 0.75329539,\n",
              "        0.73519668, 0.74659419, 0.75348485, 0.7525285 , 0.75168642,\n",
              "        0.75318116]),\n",
              " 'split1_test_score': array([0.8553332 , 0.8577231 , 0.85587859, 0.85617677, 0.85634348,\n",
              "        0.8562104 , 0.8833377 , 0.88508696, 0.88626855, 0.88587025,\n",
              "        0.88582171, 0.88610192, 0.88679882, 0.88636692, 0.88875749,\n",
              "        0.88894234, 0.88903088, 0.88868406, 0.86293261, 0.86940415,\n",
              "        0.87537093, 0.87429108, 0.87444573, 0.87505401, 0.84660127,\n",
              "        0.85119226, 0.85732172, 0.85656517, 0.85684201, 0.85780027,\n",
              "        0.85535689, 0.85039063, 0.85408548, 0.85824131, 0.85606632,\n",
              "        0.85653233]),\n",
              " 'split2_test_score': array([0.86234002, 0.86241965, 0.8627198 , 0.86316302, 0.86287061,\n",
              "        0.86285904, 0.89473918, 0.89320316, 0.8926181 , 0.89251606,\n",
              "        0.89240559, 0.89239432, 0.88622549, 0.89447922, 0.89437285,\n",
              "        0.89391545, 0.89413609, 0.89435742, 0.8706561 , 0.88887033,\n",
              "        0.88884138, 0.88723963, 0.88795819, 0.88762234, 0.86100862,\n",
              "        0.88190918, 0.87736612, 0.8764963 , 0.87746199, 0.87777211,\n",
              "        0.86151183, 0.87361382, 0.87647482, 0.87639336, 0.87747256,\n",
              "        0.87659836]),\n",
              " 'split3_test_score': array([0.84206041, 0.84456991, 0.84428794, 0.84423865, 0.84458425,\n",
              "        0.84452667, 0.85265138, 0.8582161 , 0.85724704, 0.85758664,\n",
              "        0.85772329, 0.85753234, 0.86565107, 0.85614184, 0.85831095,\n",
              "        0.85866595, 0.85851789, 0.85843717, 0.83265295, 0.84625591,\n",
              "        0.84855613, 0.84853336, 0.84891587, 0.84906693, 0.76957766,\n",
              "        0.83231447, 0.82923831, 0.82950424, 0.82784268, 0.82806166,\n",
              "        0.80459196, 0.82650521, 0.82816284, 0.82837441, 0.82687777,\n",
              "        0.82715431]),\n",
              " 'split4_test_score': array([0.85949734, 0.85897624, 0.85866103, 0.85905918, 0.85895406,\n",
              "        0.85888167, 0.89083916, 0.89065495, 0.89119927, 0.89121171,\n",
              "        0.89130745, 0.89114568, 0.89795791, 0.89688947, 0.89815342,\n",
              "        0.8981212 , 0.89803408, 0.89811142, 0.87251172, 0.88878648,\n",
              "        0.89233462, 0.89397392, 0.89424403, 0.8937864 , 0.83982586,\n",
              "        0.8725238 , 0.87391071, 0.87490898, 0.87400813, 0.87523564,\n",
              "        0.8166292 , 0.86682119, 0.87319503, 0.87369573, 0.87338031,\n",
              "        0.87415213]),\n",
              " 'std_fit_time': array([0.0020994 , 0.00722992, 0.00568481, 0.00601889, 0.02683279,\n",
              "        0.03909449, 0.0002117 , 0.00428217, 0.02922228, 0.00622876,\n",
              "        0.00463419, 0.03048776, 0.00041336, 0.00297268, 0.03070577,\n",
              "        0.00317551, 0.01412466, 0.02564242, 0.0003109 , 0.00240245,\n",
              "        0.00175883, 0.00460131, 0.02352215, 0.05623452, 0.00016778,\n",
              "        0.00414162, 0.02572781, 0.00239237, 0.01541623, 0.09914066,\n",
              "        0.00040961, 0.003888  , 0.02594445, 0.00587676, 0.01723037,\n",
              "        0.01885338]),\n",
              " 'std_score_time': array([1.13662316e-04, 3.90406928e-04, 3.01342280e-02, 4.16434271e-04,\n",
              "        2.37649117e-03, 3.17976576e-02, 1.04325323e-04, 3.16103593e-03,\n",
              "        2.01353523e-04, 2.75993636e-04, 1.94755474e-03, 2.96758425e-02,\n",
              "        9.15394962e-05, 1.44961633e-05, 1.47998655e-04, 1.63183611e-04,\n",
              "        2.01478067e-03, 2.95245502e-02, 5.37196794e-05, 3.03923002e-05,\n",
              "        2.39183451e-02, 2.81241211e-03, 2.14123092e-03, 2.92499881e-02,\n",
              "        4.06321781e-05, 2.03060274e-04, 8.19735639e-04, 5.59524151e-04,\n",
              "        6.05127264e-04, 2.76529227e-02, 4.28550615e-05, 5.14638750e-05,\n",
              "        1.25075731e-03, 2.27137571e-03, 1.94855689e-03, 2.84499521e-02]),\n",
              " 'std_test_score': array([0.04209166, 0.04433731, 0.04350642, 0.04352149, 0.04291377,\n",
              "        0.04327421, 0.04574555, 0.04444405, 0.04479526, 0.04500158,\n",
              "        0.04501584, 0.04505823, 0.04678987, 0.04507015, 0.04537323,\n",
              "        0.0449936 , 0.04492692, 0.04497118, 0.0402944 , 0.04156477,\n",
              "        0.04546873, 0.04524536, 0.04484175, 0.04483443, 0.04325103,\n",
              "        0.04829995, 0.04665317, 0.04589892, 0.04617457, 0.04611522,\n",
              "        0.04532327, 0.0460515 , 0.04519535, 0.04594749, 0.04627288,\n",
              "        0.04571868])}"
            ]
          },
          "metadata": {
            "tags": []
          },
          "execution_count": 24
        }
      ]
    },
    {
      "cell_type": "code",
      "metadata": {
        "id": "ATbgXri7AmON",
        "colab": {
          "base_uri": "https://localhost:8080/",
          "height": 617
        },
        "outputId": "03c8972d-56a8-4716-80e1-45d70f61fc38"
      },
      "source": [
        "#Resultados de la busqueda de Ridge\n",
        "rr_grid.cv_results_"
      ],
      "execution_count": null,
      "outputs": [
        {
          "output_type": "execute_result",
          "data": {
            "text/plain": [
              "{'mean_fit_time': array([0.00365939, 0.00272975, 0.00275421, 0.00278025, 0.00270548,\n",
              "        0.00269299, 0.00270538, 0.00269065]),\n",
              " 'mean_score_time': array([0.00205135, 0.00203433, 0.00210743, 0.00207419, 0.00205326,\n",
              "        0.00205035, 0.00204573, 0.00202999]),\n",
              " 'mean_test_score': array([0.75988001, 0.75988007, 0.75988495, 0.75989087, 0.75914302,\n",
              "        0.7566902 , 0.63137284, 0.21996054]),\n",
              " 'param_alpha': masked_array(data=[1e-05, 0.001, 0.1, 1, 5, 10, 100, 1000],\n",
              "              mask=[False, False, False, False, False, False, False, False],\n",
              "        fill_value='?',\n",
              "             dtype=object),\n",
              " 'params': [{'alpha': 1e-05},\n",
              "  {'alpha': 0.001},\n",
              "  {'alpha': 0.1},\n",
              "  {'alpha': 1},\n",
              "  {'alpha': 5},\n",
              "  {'alpha': 10},\n",
              "  {'alpha': 100},\n",
              "  {'alpha': 1000}],\n",
              " 'rank_test_score': array([4, 3, 2, 1, 5, 6, 7, 8], dtype=int32),\n",
              " 'split0_test_score': array([0.66249002, 0.66249074, 0.66256191, 0.66316708, 0.66500893,\n",
              "        0.66562609, 0.57335285, 0.20344369]),\n",
              " 'split1_test_score': array([0.78599125, 0.78599171, 0.78603722, 0.78640341, 0.78707363,\n",
              "        0.7860293 , 0.66181776, 0.23014215]),\n",
              " 'split2_test_score': array([0.80184138, 0.80184062, 0.80176499, 0.80104977, 0.79731909,\n",
              "        0.79159342, 0.64478369, 0.22387634]),\n",
              " 'split3_test_score': array([0.73788796, 0.73788856, 0.73794797, 0.73844199, 0.73970762,\n",
              "        0.73945581, 0.62895152, 0.22184531]),\n",
              " 'split4_test_score': array([0.81118947, 0.81118871, 0.81111266, 0.81039212, 0.80660584,\n",
              "        0.80074639, 0.64795839, 0.22049518]),\n",
              " 'std_fit_time': array([1.72049242e-03, 3.84466796e-05, 3.75434702e-05, 1.27277869e-04,\n",
              "        6.16903823e-05, 1.38811220e-05, 1.51078387e-05, 3.49384023e-05]),\n",
              " 'std_score_time': array([4.24885722e-05, 1.29578688e-05, 9.66939932e-05, 3.68994328e-05,\n",
              "        3.43292950e-05, 2.35092809e-05, 3.37587911e-05, 2.48937313e-05]),\n",
              " 'std_test_score': array([0.05485194, 0.05485142, 0.05479993, 0.05433763, 0.05240079,\n",
              "        0.05021884, 0.03083506, 0.00889543])}"
            ]
          },
          "metadata": {
            "tags": []
          },
          "execution_count": 25
        }
      ]
    },
    {
      "cell_type": "code",
      "metadata": {
        "id": "2zmAiwCGXtks",
        "colab": {
          "base_uri": "https://localhost:8080/",
          "height": 54
        },
        "outputId": "e0e21101-2362-48c9-feac-21576844528f"
      },
      "source": [
        "#Son iguales para los dos\n",
        "rfr_grid.cv_results_.keys()"
      ],
      "execution_count": null,
      "outputs": [
        {
          "output_type": "execute_result",
          "data": {
            "text/plain": [
              "dict_keys(['mean_fit_time', 'std_fit_time', 'mean_score_time', 'std_score_time', 'param_max_depth', 'param_n_estimators', 'params', 'split0_test_score', 'split1_test_score', 'split2_test_score', 'split3_test_score', 'split4_test_score', 'mean_test_score', 'std_test_score', 'rank_test_score'])"
            ]
          },
          "metadata": {
            "tags": []
          },
          "execution_count": 26
        }
      ]
    },
    {
      "cell_type": "code",
      "metadata": {
        "id": "lyskbB0-a3d-",
        "colab": {
          "base_uri": "https://localhost:8080/",
          "height": 1000
        },
        "outputId": "fa7098cd-9934-408b-efff-65104670837b"
      },
      "source": [
        "#Random forest\n",
        "#Muestro los scores obtenidos (R^2, el cual se calcula como 1- (MSE(model)/MSE(base)))\n",
        "#para cada fold (por defecto se realizan 5 folds) y lo muestro ordenado de mayor a menor\n",
        "\n",
        "rfr_df = pd.DataFrame(rfr_grid.cv_results_[\"params\"])\n",
        "rfr_df[\"mean_test_score\"] = rfr_grid.cv_results_[\"mean_test_score\"]\n",
        "rfr_df.sort_values(\"mean_test_score\", ascending=False)"
      ],
      "execution_count": null,
      "outputs": [
        {
          "output_type": "execute_result",
          "data": {
            "text/html": [
              "<div>\n",
              "<style scoped>\n",
              "    .dataframe tbody tr th:only-of-type {\n",
              "        vertical-align: middle;\n",
              "    }\n",
              "\n",
              "    .dataframe tbody tr th {\n",
              "        vertical-align: top;\n",
              "    }\n",
              "\n",
              "    .dataframe thead th {\n",
              "        text-align: right;\n",
              "    }\n",
              "</style>\n",
              "<table border=\"1\" class=\"dataframe\">\n",
              "  <thead>\n",
              "    <tr style=\"text-align: right;\">\n",
              "      <th></th>\n",
              "      <th>max_depth</th>\n",
              "      <th>n_estimators</th>\n",
              "      <th>mean_test_score</th>\n",
              "    </tr>\n",
              "  </thead>\n",
              "  <tbody>\n",
              "    <tr>\n",
              "      <th>16</th>\n",
              "      <td>4</td>\n",
              "      <td>2000</td>\n",
              "      <td>0.863574</td>\n",
              "    </tr>\n",
              "    <tr>\n",
              "      <th>17</th>\n",
              "      <td>4</td>\n",
              "      <td>5000</td>\n",
              "      <td>0.863528</td>\n",
              "    </tr>\n",
              "    <tr>\n",
              "      <th>15</th>\n",
              "      <td>4</td>\n",
              "      <td>700</td>\n",
              "      <td>0.863509</td>\n",
              "    </tr>\n",
              "    <tr>\n",
              "      <th>14</th>\n",
              "      <td>4</td>\n",
              "      <td>300</td>\n",
              "      <td>0.863327</td>\n",
              "    </tr>\n",
              "    <tr>\n",
              "      <th>13</th>\n",
              "      <td>4</td>\n",
              "      <td>50</td>\n",
              "      <td>0.862139</td>\n",
              "    </tr>\n",
              "    <tr>\n",
              "      <th>12</th>\n",
              "      <td>4</td>\n",
              "      <td>5</td>\n",
              "      <td>0.861352</td>\n",
              "    </tr>\n",
              "    <tr>\n",
              "      <th>7</th>\n",
              "      <td>3</td>\n",
              "      <td>50</td>\n",
              "      <td>0.860458</td>\n",
              "    </tr>\n",
              "    <tr>\n",
              "      <th>8</th>\n",
              "      <td>3</td>\n",
              "      <td>300</td>\n",
              "      <td>0.860380</td>\n",
              "    </tr>\n",
              "    <tr>\n",
              "      <th>10</th>\n",
              "      <td>3</td>\n",
              "      <td>2000</td>\n",
              "      <td>0.860212</td>\n",
              "    </tr>\n",
              "    <tr>\n",
              "      <th>9</th>\n",
              "      <td>3</td>\n",
              "      <td>700</td>\n",
              "      <td>0.860210</td>\n",
              "    </tr>\n",
              "    <tr>\n",
              "      <th>11</th>\n",
              "      <td>3</td>\n",
              "      <td>5000</td>\n",
              "      <td>0.860179</td>\n",
              "    </tr>\n",
              "    <tr>\n",
              "      <th>6</th>\n",
              "      <td>3</td>\n",
              "      <td>5</td>\n",
              "      <td>0.858747</td>\n",
              "    </tr>\n",
              "    <tr>\n",
              "      <th>22</th>\n",
              "      <td>7</td>\n",
              "      <td>2000</td>\n",
              "      <td>0.855364</td>\n",
              "    </tr>\n",
              "    <tr>\n",
              "      <th>23</th>\n",
              "      <td>7</td>\n",
              "      <td>5000</td>\n",
              "      <td>0.855319</td>\n",
              "    </tr>\n",
              "    <tr>\n",
              "      <th>20</th>\n",
              "      <td>7</td>\n",
              "      <td>300</td>\n",
              "      <td>0.854884</td>\n",
              "    </tr>\n",
              "    <tr>\n",
              "      <th>21</th>\n",
              "      <td>7</td>\n",
              "      <td>700</td>\n",
              "      <td>0.854762</td>\n",
              "    </tr>\n",
              "    <tr>\n",
              "      <th>19</th>\n",
              "      <td>7</td>\n",
              "      <td>50</td>\n",
              "      <td>0.854082</td>\n",
              "    </tr>\n",
              "    <tr>\n",
              "      <th>18</th>\n",
              "      <td>7</td>\n",
              "      <td>5</td>\n",
              "      <td>0.840857</td>\n",
              "    </tr>\n",
              "    <tr>\n",
              "      <th>29</th>\n",
              "      <td>12</td>\n",
              "      <td>5000</td>\n",
              "      <td>0.838433</td>\n",
              "    </tr>\n",
              "    <tr>\n",
              "      <th>27</th>\n",
              "      <td>12</td>\n",
              "      <td>700</td>\n",
              "      <td>0.838039</td>\n",
              "    </tr>\n",
              "    <tr>\n",
              "      <th>33</th>\n",
              "      <td>20</td>\n",
              "      <td>700</td>\n",
              "      <td>0.837847</td>\n",
              "    </tr>\n",
              "    <tr>\n",
              "      <th>26</th>\n",
              "      <td>12</td>\n",
              "      <td>300</td>\n",
              "      <td>0.837739</td>\n",
              "    </tr>\n",
              "    <tr>\n",
              "      <th>28</th>\n",
              "      <td>12</td>\n",
              "      <td>2000</td>\n",
              "      <td>0.837686</td>\n",
              "    </tr>\n",
              "    <tr>\n",
              "      <th>35</th>\n",
              "      <td>20</td>\n",
              "      <td>5000</td>\n",
              "      <td>0.837524</td>\n",
              "    </tr>\n",
              "    <tr>\n",
              "      <th>34</th>\n",
              "      <td>20</td>\n",
              "      <td>2000</td>\n",
              "      <td>0.837097</td>\n",
              "    </tr>\n",
              "    <tr>\n",
              "      <th>32</th>\n",
              "      <td>20</td>\n",
              "      <td>300</td>\n",
              "      <td>0.837081</td>\n",
              "    </tr>\n",
              "    <tr>\n",
              "      <th>25</th>\n",
              "      <td>12</td>\n",
              "      <td>50</td>\n",
              "      <td>0.836919</td>\n",
              "    </tr>\n",
              "    <tr>\n",
              "      <th>4</th>\n",
              "      <td>2</td>\n",
              "      <td>2000</td>\n",
              "      <td>0.834449</td>\n",
              "    </tr>\n",
              "    <tr>\n",
              "      <th>5</th>\n",
              "      <td>2</td>\n",
              "      <td>5000</td>\n",
              "      <td>0.834199</td>\n",
              "    </tr>\n",
              "    <tr>\n",
              "      <th>3</th>\n",
              "      <td>2</td>\n",
              "      <td>700</td>\n",
              "      <td>0.834128</td>\n",
              "    </tr>\n",
              "    <tr>\n",
              "      <th>0</th>\n",
              "      <td>2</td>\n",
              "      <td>5</td>\n",
              "      <td>0.834051</td>\n",
              "    </tr>\n",
              "    <tr>\n",
              "      <th>1</th>\n",
              "      <td>2</td>\n",
              "      <td>50</td>\n",
              "      <td>0.833962</td>\n",
              "    </tr>\n",
              "    <tr>\n",
              "      <th>2</th>\n",
              "      <td>2</td>\n",
              "      <td>300</td>\n",
              "      <td>0.833851</td>\n",
              "    </tr>\n",
              "    <tr>\n",
              "      <th>31</th>\n",
              "      <td>20</td>\n",
              "      <td>50</td>\n",
              "      <td>0.832785</td>\n",
              "    </tr>\n",
              "    <tr>\n",
              "      <th>30</th>\n",
              "      <td>20</td>\n",
              "      <td>5</td>\n",
              "      <td>0.814657</td>\n",
              "    </tr>\n",
              "    <tr>\n",
              "      <th>24</th>\n",
              "      <td>12</td>\n",
              "      <td>5</td>\n",
              "      <td>0.814470</td>\n",
              "    </tr>\n",
              "  </tbody>\n",
              "</table>\n",
              "</div>"
            ],
            "text/plain": [
              "    max_depth  n_estimators  mean_test_score\n",
              "16          4          2000         0.863574\n",
              "17          4          5000         0.863528\n",
              "15          4           700         0.863509\n",
              "14          4           300         0.863327\n",
              "13          4            50         0.862139\n",
              "12          4             5         0.861352\n",
              "7           3            50         0.860458\n",
              "8           3           300         0.860380\n",
              "10          3          2000         0.860212\n",
              "9           3           700         0.860210\n",
              "11          3          5000         0.860179\n",
              "6           3             5         0.858747\n",
              "22          7          2000         0.855364\n",
              "23          7          5000         0.855319\n",
              "20          7           300         0.854884\n",
              "21          7           700         0.854762\n",
              "19          7            50         0.854082\n",
              "18          7             5         0.840857\n",
              "29         12          5000         0.838433\n",
              "27         12           700         0.838039\n",
              "33         20           700         0.837847\n",
              "26         12           300         0.837739\n",
              "28         12          2000         0.837686\n",
              "35         20          5000         0.837524\n",
              "34         20          2000         0.837097\n",
              "32         20           300         0.837081\n",
              "25         12            50         0.836919\n",
              "4           2          2000         0.834449\n",
              "5           2          5000         0.834199\n",
              "3           2           700         0.834128\n",
              "0           2             5         0.834051\n",
              "1           2            50         0.833962\n",
              "2           2           300         0.833851\n",
              "31         20            50         0.832785\n",
              "30         20             5         0.814657\n",
              "24         12             5         0.814470"
            ]
          },
          "metadata": {
            "tags": []
          },
          "execution_count": 27
        }
      ]
    },
    {
      "cell_type": "markdown",
      "metadata": {
        "id": "uMomQfbqELHX"
      },
      "source": [
        "Los modelos que mejor performan son  de profundidad 4 y 3, obteniendo una performance similar con cualquier cantidad de arboles internos. Luego la performance comienza a disminuir.\n",
        "\n",
        "Se ve que este modelo le da, para este problema, mayor importancia a la profundidad del arbol que a la cantidad de árboles que posee."
      ]
    },
    {
      "cell_type": "code",
      "metadata": {
        "id": "ih2xXsqpxOm0",
        "colab": {
          "base_uri": "https://localhost:8080/",
          "height": 322
        },
        "outputId": "db616b7e-57dd-4402-a500-a1ead717a0e5"
      },
      "source": [
        "#Random forest\n",
        "rfr_best_model = rfr_grid.best_estimator_\n",
        "pd.DataFrame({\"attribute\": x_train.columns.values, \n",
        "                   \"feature_importance\": rfr_best_model.feature_importances_}).plot.bar(\"attribute\", \"feature_importance\", rot=45)"
      ],
      "execution_count": null,
      "outputs": [
        {
          "output_type": "execute_result",
          "data": {
            "text/plain": [
              "<matplotlib.axes._subplots.AxesSubplot at 0x7f9761556f60>"
            ]
          },
          "metadata": {
            "tags": []
          },
          "execution_count": 28
        },
        {
          "output_type": "display_data",
          "data": {
            "image/png": "[encoded data removed]",
            "text/plain": [
              "<Figure size 432x288 with 1 Axes>"
            ]
          },
          "metadata": {
            "tags": [],
            "needs_background": "light"
          }
        }
      ]
    },
    {
      "cell_type": "markdown",
      "metadata": {
        "id": "IifOzkkU6Q8I"
      },
      "source": [
        "Se observa que este modelo prioriza si es fumador o no por sobre todo, luego el bmi (el peso del sujeto) y luego la edad, la cantidad de hijos no afecta en gran medida al valor."
      ]
    },
    {
      "cell_type": "code",
      "metadata": {
        "id": "ayF5bfOwC6_F",
        "colab": {
          "base_uri": "https://localhost:8080/",
          "height": 295
        },
        "outputId": "4920f4ec-d612-40cc-84fd-f933805dd1fd"
      },
      "source": [
        "#Ridge\n",
        "#Muestro los scores obtenidos (R^2, el cual se calcula como 1- (MSE(model)/MSE(base)))\n",
        "#para cada fold (por defecto se realizan 5 folds) y lo muestro ordenado de mayor a menor\n",
        "\n",
        "rr_df = pd.DataFrame(rr_grid.cv_results_[\"params\"])\n",
        "rr_df[\"mean_test_score\"] = rr_grid.cv_results_[\"mean_test_score\"]\n",
        "rr_df.sort_values(\"mean_test_score\", ascending=False)"
      ],
      "execution_count": null,
      "outputs": [
        {
          "output_type": "execute_result",
          "data": {
            "text/html": [
              "<div>\n",
              "<style scoped>\n",
              "    .dataframe tbody tr th:only-of-type {\n",
              "        vertical-align: middle;\n",
              "    }\n",
              "\n",
              "    .dataframe tbody tr th {\n",
              "        vertical-align: top;\n",
              "    }\n",
              "\n",
              "    .dataframe thead th {\n",
              "        text-align: right;\n",
              "    }\n",
              "</style>\n",
              "<table border=\"1\" class=\"dataframe\">\n",
              "  <thead>\n",
              "    <tr style=\"text-align: right;\">\n",
              "      <th></th>\n",
              "      <th>alpha</th>\n",
              "      <th>mean_test_score</th>\n",
              "    </tr>\n",
              "  </thead>\n",
              "  <tbody>\n",
              "    <tr>\n",
              "      <th>3</th>\n",
              "      <td>1.00000</td>\n",
              "      <td>0.759891</td>\n",
              "    </tr>\n",
              "    <tr>\n",
              "      <th>2</th>\n",
              "      <td>0.10000</td>\n",
              "      <td>0.759885</td>\n",
              "    </tr>\n",
              "    <tr>\n",
              "      <th>1</th>\n",
              "      <td>0.00100</td>\n",
              "      <td>0.759880</td>\n",
              "    </tr>\n",
              "    <tr>\n",
              "      <th>0</th>\n",
              "      <td>0.00001</td>\n",
              "      <td>0.759880</td>\n",
              "    </tr>\n",
              "    <tr>\n",
              "      <th>4</th>\n",
              "      <td>5.00000</td>\n",
              "      <td>0.759143</td>\n",
              "    </tr>\n",
              "    <tr>\n",
              "      <th>5</th>\n",
              "      <td>10.00000</td>\n",
              "      <td>0.756690</td>\n",
              "    </tr>\n",
              "    <tr>\n",
              "      <th>6</th>\n",
              "      <td>100.00000</td>\n",
              "      <td>0.631373</td>\n",
              "    </tr>\n",
              "    <tr>\n",
              "      <th>7</th>\n",
              "      <td>1000.00000</td>\n",
              "      <td>0.219961</td>\n",
              "    </tr>\n",
              "  </tbody>\n",
              "</table>\n",
              "</div>"
            ],
            "text/plain": [
              "        alpha  mean_test_score\n",
              "3     1.00000         0.759891\n",
              "2     0.10000         0.759885\n",
              "1     0.00100         0.759880\n",
              "0     0.00001         0.759880\n",
              "4     5.00000         0.759143\n",
              "5    10.00000         0.756690\n",
              "6   100.00000         0.631373\n",
              "7  1000.00000         0.219961"
            ]
          },
          "metadata": {
            "tags": []
          },
          "execution_count": 29
        }
      ]
    },
    {
      "cell_type": "markdown",
      "metadata": {
        "id": "23N0IuAQEZVk"
      },
      "source": [
        "Si se le da igual importancia al regularizador (L2, el cual busca evitar que se utilice únicamente un atributo) que a los pesos se obtiene el mayor valor. El modelo performa similar con valores pequeños de alpha y comienza a disminuir su performance a medida que se le da mas importancia al regularizador."
      ]
    },
    {
      "cell_type": "code",
      "metadata": {
        "id": "Ru1-ESxnzxc7",
        "colab": {
          "base_uri": "https://localhost:8080/",
          "height": 322
        },
        "outputId": "c4c1c7cc-d9ad-4921-cf64-477ff8e604d0"
      },
      "source": [
        "#Ridge\n",
        "rr_best_model = rr_grid.best_estimator_\n",
        "pd.DataFrame({\"attribute\": x_train.columns.values, \n",
        "                   \"feature_importance\": rr_best_model.coef_[0]}).plot.bar(\"attribute\", \"feature_importance\", rot=45)"
      ],
      "execution_count": null,
      "outputs": [
        {
          "output_type": "execute_result",
          "data": {
            "text/plain": [
              "<matplotlib.axes._subplots.AxesSubplot at 0x7f9764a6c6a0>"
            ]
          },
          "metadata": {
            "tags": []
          },
          "execution_count": 30
        },
        {
          "output_type": "display_data",
          "data": {
            "image/png": "[encoded data removed]",
            "text/plain": [
              "<Figure size 432x288 with 1 Axes>"
            ]
          },
          "metadata": {
            "tags": [],
            "needs_background": "light"
          }
        }
      ]
    },
    {
      "cell_type": "markdown",
      "metadata": {
        "id": "sQhlzSJYEB82"
      },
      "source": [
        "Similar que en el modelo de random forest, se observa que este modelo prioriza si es fumador o no por sobre todo, luego la edad y luego el peso, la cantidad de hijos no afecta en gran medida al valor.\n",
        "\n",
        "Proceso a aplicar ambos modelos sobre los datos de test y comparar sus resultados."
      ]
    },
    {
      "cell_type": "code",
      "metadata": {
        "id": "MW86DtmVE-nx",
        "colab": {
          "base_uri": "https://localhost:8080/",
          "height": 171
        },
        "outputId": "d2d83259-1462-4a2c-ea7b-af73954b55c8"
      },
      "source": [
        "from sklearn.metrics import r2_score, mean_absolute_error, mean_squared_error\n",
        "import math\n",
        "\n",
        "print(\"Modelo Random Forest\")\n",
        "print(\"R2 de:    \", r2_score(y_test, rfr_best_model.predict(x_test)))\n",
        "print(\"MAE:      \", mean_absolute_error(y_test, rfr_best_model.predict(x_test)))\n",
        "print(\"RMSE:     \", math.sqrt(mean_squared_error(y_test, rfr_best_model.predict(x_test))))\n",
        "print(\"\")\n",
        "print(\"Modelo Ridge Regression\")\n",
        "print(\"R2 de:    \", r2_score(y_test, rr_best_model.predict(x_test)))\n",
        "print(\"MAE de:   \", mean_absolute_error(y_test, rr_best_model.predict(x_test)))\n",
        "print(\"RMSE de:  \", math.sqrt(mean_squared_error(y_test, rr_best_model.predict(x_test))))"
      ],
      "execution_count": null,
      "outputs": [
        {
          "output_type": "stream",
          "text": [
            "Modelo Random Forest\n",
            "R2 de:     0.8425450834533781\n",
            "MAE:       2616.297293586382\n",
            "RMSE:      4630.971559570741\n",
            "\n",
            "Modelo Ridge Regression\n",
            "R2 de:     0.7056857063566015\n",
            "MAE de:    4475.830406602233\n",
            "RMSE de:   6331.398923811182\n"
          ],
          "name": "stdout"
        }
      ]
    },
    {
      "cell_type": "markdown",
      "metadata": {
        "id": "jvhpw_A_1Z_F"
      },
      "source": [
        "Se observa que los resultados obtenidos son similares a los que se obtuvieron en promedio de los cross validation en el model selection. \n",
        "\n",
        "Como se observo con la visualización de datos un plano puede servir para representar el conjunto de datos, aunque se observa una relación no lineal entre los datos, por lo que un modelo no lineal como random forest podría brindar mejores resultados. \n",
        "\n",
        "Aqui se muestra justamente eso, ya que el modelo de random forest performa mucho mejor, con un MAE y un RMSE de casi la mitad que ridge regression.\n",
        "\n",
        "La diferencia tan grande entre MAE y RMSE es que el primero toma con el mismo pesos las diferencias grandes y las pequeñas, mientras que el segundo, al tomar las diferencias elevadas al cuadrado, le da más peso a las diferencias grandes. Al tener un valor tan elevado podemos suponer que, en algunos casos, las diferencias que se encuentran son más bien grandes, aunque para los valores en los que se mueve la variable resultado podrían no ser tan perjudiciales. \n",
        "\n",
        "A continuación se mostraran algunos datos *y* contra algunos y_hat y su diferencia."
      ]
    },
    {
      "cell_type": "code",
      "metadata": {
        "id": "wiDOJYUUMLxl",
        "colab": {
          "base_uri": "https://localhost:8080/",
          "height": 666
        },
        "outputId": "93808924-2f04-42ad-852b-d00d26c6a120"
      },
      "source": [
        "#Para random forest\n",
        "\n",
        "result_df = pd.DataFrame(columns=['y_true', 'y_hat', '|y_true-y_hat|'])\n",
        "\n",
        "result_df['y_true'] = y_test[0:20]\n",
        "result_df['y_hat'] = rfr_best_model.predict(x_test)[0:20]\n",
        "result_df['|y_true-y_hat|'] = abs(result_df['y_true'] - result_df['y_hat'])\n",
        "\n",
        "result_df.sort_values(by='y_true').reset_index(drop=True)"
      ],
      "execution_count": null,
      "outputs": [
        {
          "output_type": "execute_result",
          "data": {
            "text/html": [
              "<div>\n",
              "<style scoped>\n",
              "    .dataframe tbody tr th:only-of-type {\n",
              "        vertical-align: middle;\n",
              "    }\n",
              "\n",
              "    .dataframe tbody tr th {\n",
              "        vertical-align: top;\n",
              "    }\n",
              "\n",
              "    .dataframe thead th {\n",
              "        text-align: right;\n",
              "    }\n",
              "</style>\n",
              "<table border=\"1\" class=\"dataframe\">\n",
              "  <thead>\n",
              "    <tr style=\"text-align: right;\">\n",
              "      <th></th>\n",
              "      <th>y_true</th>\n",
              "      <th>y_hat</th>\n",
              "      <th>|y_true-y_hat|</th>\n",
              "    </tr>\n",
              "  </thead>\n",
              "  <tbody>\n",
              "    <tr>\n",
              "      <th>0</th>\n",
              "      <td>1242.81600</td>\n",
              "      <td>2830.261414</td>\n",
              "      <td>1587.445414</td>\n",
              "    </tr>\n",
              "    <tr>\n",
              "      <th>1</th>\n",
              "      <td>1704.70015</td>\n",
              "      <td>2867.355419</td>\n",
              "      <td>1162.655269</td>\n",
              "    </tr>\n",
              "    <tr>\n",
              "      <th>2</th>\n",
              "      <td>2302.30000</td>\n",
              "      <td>5392.039109</td>\n",
              "      <td>3089.739109</td>\n",
              "    </tr>\n",
              "    <tr>\n",
              "      <th>3</th>\n",
              "      <td>2395.17155</td>\n",
              "      <td>4882.917115</td>\n",
              "      <td>2487.745565</td>\n",
              "    </tr>\n",
              "    <tr>\n",
              "      <th>4</th>\n",
              "      <td>2632.99200</td>\n",
              "      <td>5421.955627</td>\n",
              "      <td>2788.963627</td>\n",
              "    </tr>\n",
              "    <tr>\n",
              "      <th>5</th>\n",
              "      <td>2727.39510</td>\n",
              "      <td>5421.955627</td>\n",
              "      <td>2694.560527</td>\n",
              "    </tr>\n",
              "    <tr>\n",
              "      <th>6</th>\n",
              "      <td>2904.08800</td>\n",
              "      <td>5819.946129</td>\n",
              "      <td>2915.858129</td>\n",
              "    </tr>\n",
              "    <tr>\n",
              "      <th>7</th>\n",
              "      <td>3597.59600</td>\n",
              "      <td>6196.377201</td>\n",
              "      <td>2598.781201</td>\n",
              "    </tr>\n",
              "    <tr>\n",
              "      <th>8</th>\n",
              "      <td>5846.91760</td>\n",
              "      <td>7508.034627</td>\n",
              "      <td>1661.117027</td>\n",
              "    </tr>\n",
              "    <tr>\n",
              "      <th>9</th>\n",
              "      <td>8023.13545</td>\n",
              "      <td>8877.992918</td>\n",
              "      <td>854.857468</td>\n",
              "    </tr>\n",
              "    <tr>\n",
              "      <th>10</th>\n",
              "      <td>8539.67100</td>\n",
              "      <td>9515.178910</td>\n",
              "      <td>975.507910</td>\n",
              "    </tr>\n",
              "    <tr>\n",
              "      <th>11</th>\n",
              "      <td>12347.17200</td>\n",
              "      <td>14677.651865</td>\n",
              "      <td>2330.479865</td>\n",
              "    </tr>\n",
              "    <tr>\n",
              "      <th>12</th>\n",
              "      <td>16085.12750</td>\n",
              "      <td>16013.499395</td>\n",
              "      <td>71.628105</td>\n",
              "    </tr>\n",
              "    <tr>\n",
              "      <th>13</th>\n",
              "      <td>18972.49500</td>\n",
              "      <td>20531.018687</td>\n",
              "      <td>1558.523687</td>\n",
              "    </tr>\n",
              "    <tr>\n",
              "      <th>14</th>\n",
              "      <td>19933.45800</td>\n",
              "      <td>18990.235999</td>\n",
              "      <td>943.222001</td>\n",
              "    </tr>\n",
              "    <tr>\n",
              "      <th>15</th>\n",
              "      <td>21880.82000</td>\n",
              "      <td>22417.943431</td>\n",
              "      <td>537.123431</td>\n",
              "    </tr>\n",
              "    <tr>\n",
              "      <th>16</th>\n",
              "      <td>22493.65964</td>\n",
              "      <td>4675.892525</td>\n",
              "      <td>17817.767115</td>\n",
              "    </tr>\n",
              "    <tr>\n",
              "      <th>17</th>\n",
              "      <td>23967.38305</td>\n",
              "      <td>22642.720663</td>\n",
              "      <td>1324.662387</td>\n",
              "    </tr>\n",
              "    <tr>\n",
              "      <th>18</th>\n",
              "      <td>24873.38490</td>\n",
              "      <td>22613.660754</td>\n",
              "      <td>2259.724146</td>\n",
              "    </tr>\n",
              "    <tr>\n",
              "      <th>19</th>\n",
              "      <td>30166.61817</td>\n",
              "      <td>14576.291497</td>\n",
              "      <td>15590.326673</td>\n",
              "    </tr>\n",
              "  </tbody>\n",
              "</table>\n",
              "</div>"
            ],
            "text/plain": [
              "         y_true         y_hat  |y_true-y_hat|\n",
              "0    1242.81600   2830.261414     1587.445414\n",
              "1    1704.70015   2867.355419     1162.655269\n",
              "2    2302.30000   5392.039109     3089.739109\n",
              "3    2395.17155   4882.917115     2487.745565\n",
              "4    2632.99200   5421.955627     2788.963627\n",
              "5    2727.39510   5421.955627     2694.560527\n",
              "6    2904.08800   5819.946129     2915.858129\n",
              "7    3597.59600   6196.377201     2598.781201\n",
              "8    5846.91760   7508.034627     1661.117027\n",
              "9    8023.13545   8877.992918      854.857468\n",
              "10   8539.67100   9515.178910      975.507910\n",
              "11  12347.17200  14677.651865     2330.479865\n",
              "12  16085.12750  16013.499395       71.628105\n",
              "13  18972.49500  20531.018687     1558.523687\n",
              "14  19933.45800  18990.235999      943.222001\n",
              "15  21880.82000  22417.943431      537.123431\n",
              "16  22493.65964   4675.892525    17817.767115\n",
              "17  23967.38305  22642.720663     1324.662387\n",
              "18  24873.38490  22613.660754     2259.724146\n",
              "19  30166.61817  14576.291497    15590.326673"
            ]
          },
          "metadata": {
            "tags": []
          },
          "execution_count": 32
        }
      ]
    },
    {
      "cell_type": "code",
      "metadata": {
        "id": "vLyZWnM642af",
        "colab": {
          "base_uri": "https://localhost:8080/",
          "height": 666
        },
        "outputId": "6d07d85f-f8a5-4c05-f7d8-968e2a81089c"
      },
      "source": [
        "#Para ridge regression\n",
        "result_df = pd.DataFrame(columns=['y_true', 'y_hat', '|y_true-y_hat|'])\n",
        "\n",
        "result_df['y_true'] = y_test[0:20]\n",
        "result_df['y_hat'] = rr_best_model.predict(x_test)[0:20]\n",
        "result_df['|y_true-y_hat|'] = abs(result_df['y_true'] - result_df['y_hat'])\n",
        "\n",
        "result_df.sort_values(by='y_true').reset_index(drop=True)"
      ],
      "execution_count": null,
      "outputs": [
        {
          "output_type": "execute_result",
          "data": {
            "text/html": [
              "<div>\n",
              "<style scoped>\n",
              "    .dataframe tbody tr th:only-of-type {\n",
              "        vertical-align: middle;\n",
              "    }\n",
              "\n",
              "    .dataframe tbody tr th {\n",
              "        vertical-align: top;\n",
              "    }\n",
              "\n",
              "    .dataframe thead th {\n",
              "        text-align: right;\n",
              "    }\n",
              "</style>\n",
              "<table border=\"1\" class=\"dataframe\">\n",
              "  <thead>\n",
              "    <tr style=\"text-align: right;\">\n",
              "      <th></th>\n",
              "      <th>y_true</th>\n",
              "      <th>y_hat</th>\n",
              "      <th>|y_true-y_hat|</th>\n",
              "    </tr>\n",
              "  </thead>\n",
              "  <tbody>\n",
              "    <tr>\n",
              "      <th>0</th>\n",
              "      <td>1242.81600</td>\n",
              "      <td>-509.840226</td>\n",
              "      <td>1752.656226</td>\n",
              "    </tr>\n",
              "    <tr>\n",
              "      <th>1</th>\n",
              "      <td>1704.70015</td>\n",
              "      <td>8.134999</td>\n",
              "      <td>1696.565151</td>\n",
              "    </tr>\n",
              "    <tr>\n",
              "      <th>2</th>\n",
              "      <td>2302.30000</td>\n",
              "      <td>1313.773453</td>\n",
              "      <td>988.526547</td>\n",
              "    </tr>\n",
              "    <tr>\n",
              "      <th>3</th>\n",
              "      <td>2395.17155</td>\n",
              "      <td>1534.135601</td>\n",
              "      <td>861.035949</td>\n",
              "    </tr>\n",
              "    <tr>\n",
              "      <th>4</th>\n",
              "      <td>2632.99200</td>\n",
              "      <td>4140.338581</td>\n",
              "      <td>1507.346581</td>\n",
              "    </tr>\n",
              "    <tr>\n",
              "      <th>5</th>\n",
              "      <td>2727.39510</td>\n",
              "      <td>4234.434305</td>\n",
              "      <td>1507.039205</td>\n",
              "    </tr>\n",
              "    <tr>\n",
              "      <th>6</th>\n",
              "      <td>2904.08800</td>\n",
              "      <td>4840.947448</td>\n",
              "      <td>1936.859448</td>\n",
              "    </tr>\n",
              "    <tr>\n",
              "      <th>7</th>\n",
              "      <td>3597.59600</td>\n",
              "      <td>7461.163958</td>\n",
              "      <td>3863.567958</td>\n",
              "    </tr>\n",
              "    <tr>\n",
              "      <th>8</th>\n",
              "      <td>5846.91760</td>\n",
              "      <td>12014.347854</td>\n",
              "      <td>6167.430254</td>\n",
              "    </tr>\n",
              "    <tr>\n",
              "      <th>9</th>\n",
              "      <td>8023.13545</td>\n",
              "      <td>11703.480155</td>\n",
              "      <td>3680.344705</td>\n",
              "    </tr>\n",
              "    <tr>\n",
              "      <th>10</th>\n",
              "      <td>8539.67100</td>\n",
              "      <td>8137.852806</td>\n",
              "      <td>401.818194</td>\n",
              "    </tr>\n",
              "    <tr>\n",
              "      <th>11</th>\n",
              "      <td>12347.17200</td>\n",
              "      <td>15588.742754</td>\n",
              "      <td>3241.570754</td>\n",
              "    </tr>\n",
              "    <tr>\n",
              "      <th>12</th>\n",
              "      <td>16085.12750</td>\n",
              "      <td>18584.996865</td>\n",
              "      <td>2499.869365</td>\n",
              "    </tr>\n",
              "    <tr>\n",
              "      <th>13</th>\n",
              "      <td>18972.49500</td>\n",
              "      <td>30119.024412</td>\n",
              "      <td>11146.529412</td>\n",
              "    </tr>\n",
              "    <tr>\n",
              "      <th>14</th>\n",
              "      <td>19933.45800</td>\n",
              "      <td>29785.823108</td>\n",
              "      <td>9852.365108</td>\n",
              "    </tr>\n",
              "    <tr>\n",
              "      <th>15</th>\n",
              "      <td>21880.82000</td>\n",
              "      <td>32227.272447</td>\n",
              "      <td>10346.452447</td>\n",
              "    </tr>\n",
              "    <tr>\n",
              "      <th>16</th>\n",
              "      <td>22493.65964</td>\n",
              "      <td>2704.428846</td>\n",
              "      <td>19789.230794</td>\n",
              "    </tr>\n",
              "    <tr>\n",
              "      <th>17</th>\n",
              "      <td>23967.38305</td>\n",
              "      <td>34305.144769</td>\n",
              "      <td>10337.761719</td>\n",
              "    </tr>\n",
              "    <tr>\n",
              "      <th>18</th>\n",
              "      <td>24873.38490</td>\n",
              "      <td>34650.012416</td>\n",
              "      <td>9776.627516</td>\n",
              "    </tr>\n",
              "    <tr>\n",
              "      <th>19</th>\n",
              "      <td>30166.61817</td>\n",
              "      <td>12844.744321</td>\n",
              "      <td>17321.873849</td>\n",
              "    </tr>\n",
              "  </tbody>\n",
              "</table>\n",
              "</div>"
            ],
            "text/plain": [
              "         y_true         y_hat  |y_true-y_hat|\n",
              "0    1242.81600   -509.840226     1752.656226\n",
              "1    1704.70015      8.134999     1696.565151\n",
              "2    2302.30000   1313.773453      988.526547\n",
              "3    2395.17155   1534.135601      861.035949\n",
              "4    2632.99200   4140.338581     1507.346581\n",
              "5    2727.39510   4234.434305     1507.039205\n",
              "6    2904.08800   4840.947448     1936.859448\n",
              "7    3597.59600   7461.163958     3863.567958\n",
              "8    5846.91760  12014.347854     6167.430254\n",
              "9    8023.13545  11703.480155     3680.344705\n",
              "10   8539.67100   8137.852806      401.818194\n",
              "11  12347.17200  15588.742754     3241.570754\n",
              "12  16085.12750  18584.996865     2499.869365\n",
              "13  18972.49500  30119.024412    11146.529412\n",
              "14  19933.45800  29785.823108     9852.365108\n",
              "15  21880.82000  32227.272447    10346.452447\n",
              "16  22493.65964   2704.428846    19789.230794\n",
              "17  23967.38305  34305.144769    10337.761719\n",
              "18  24873.38490  34650.012416     9776.627516\n",
              "19  30166.61817  12844.744321    17321.873849"
            ]
          },
          "metadata": {
            "tags": []
          },
          "execution_count": 33
        }
      ]
    },
    {
      "cell_type": "markdown",
      "metadata": {
        "id": "2mc_yYKa9D-e"
      },
      "source": [
        "Se observan diferencias mayores en el modelo de ridge regression, como se vio en los resultados explicados anteriormente.\n",
        "\n",
        "El mejor modelo a utilizar, comparando entre los dos utilizados en este practico, es el random forest, ya que permite encontrar patrones no lineales entre los datos, además de ser más robusto por ser un modelo de ensamble."
      ]
    }
  ]
}